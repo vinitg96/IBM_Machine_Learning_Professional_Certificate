{
  "cells": [
    {
      "cell_type": "markdown",
      "metadata": {
        "id": "M8VhESa62Jey"
      },
      "source": [
        "<p style=\"text-align:center\">\n",
        "    <a href=\"https://skills.network/?utm_medium=Exinfluencer&utm_source=Exinfluencer&utm_content=000026UJ&utm_term=10006555&utm_id=NA-SkillsNetwork-Channel-SkillsNetworkCoursesIBMML321ENSkillsNetwork32585014-2022-01-01\" target=\"_blank\">\n",
        "    <img src=\"https://cf-courses-data.s3.us.cloud-object-storage.appdomain.cloud/assets/logos/SN_web_lightmode.png\" width=\"200\" alt=\"Skills Network Logo\"  />\n",
        "    </a>\n",
        "</p>\n"
      ]
    },
    {
      "cell_type": "markdown",
      "metadata": {
        "id": "t0FVnBZ92Je-"
      },
      "source": [
        "# **Content-based Course Recommender System Using User Profile and Course Genres**\n"
      ]
    },
    {
      "cell_type": "markdown",
      "metadata": {
        "id": "bl3kwBI52Je_"
      },
      "source": [
        "Estimated time needed: **60** minutes\n"
      ]
    },
    {
      "cell_type": "markdown",
      "metadata": {
        "id": "uGFmiCaH2Je_"
      },
      "source": [
        "The most common type of content-based recommendation system is to recommend items to users based on their profiles. The user's profile revolves around that user's preferences and tastes. It is shaped based on user ratings, including the number of times a user has clicked on different items or liked those items.\n",
        "\n",
        "The recommendation process is based on the similarity between those items. The similarity or closeness of items is measured based on the similarity in the content of those items. When we say content, we're talking about things like the item's category, tag, genre, and so on. Essentially the features about an item.\n"
      ]
    },
    {
      "cell_type": "markdown",
      "metadata": {
        "id": "zzSnURJa2JfA"
      },
      "source": [
        "For online course recommender systems, we already know how to extract features from courses (such as genres or BoW features). Next, based on the course genres and users' ratings, we want to further build user profiles (if unknown).\n",
        "\n",
        "A user profile can be seen as the user feature vector that mathematically represents a user's learning interests.\n"
      ]
    },
    {
      "cell_type": "markdown",
      "metadata": {
        "id": "F9DaBXp02JfB"
      },
      "source": [
        "With the user profile feature vectors and course genre feature vectors constructed, we can use several computational methods, such as a simple dot product, to compute or predict an interest score for each course and recommend those courses with high interest scores.\n"
      ]
    },
    {
      "cell_type": "markdown",
      "metadata": {
        "id": "uZdNyubI2JfB"
      },
      "source": [
        "![](https://cf-courses-data.s3.us.cloud-object-storage.appdomain.cloud/IBM-ML321EN-SkillsNetwork/labs/module\\_3/images/user_profile_score.png)\n"
      ]
    },
    {
      "cell_type": "markdown",
      "metadata": {
        "id": "2XV7PrK02JfC"
      },
      "source": [
        "## Objectives\n"
      ]
    },
    {
      "cell_type": "markdown",
      "metadata": {
        "id": "_QSTgzZ92JfD"
      },
      "source": [
        "After completing this lab you will be able to:\n"
      ]
    },
    {
      "cell_type": "markdown",
      "metadata": {
        "id": "ZoqR8jjM2JfE"
      },
      "source": [
        "*   Generate a user profile based on course genres and rating\n",
        "*   Generate course recommendations based on a user's profile and course genres\n"
      ]
    },
    {
      "cell_type": "markdown",
      "metadata": {
        "id": "Mu7Xp0AE2JfI"
      },
      "source": [
        "***\n"
      ]
    },
    {
      "cell_type": "markdown",
      "metadata": {
        "id": "HeOpw12R2JfK"
      },
      "source": [
        "## Prepare and setup the lab environment\n"
      ]
    },
    {
      "cell_type": "markdown",
      "metadata": {
        "id": "Ob4LSbiB2JfK"
      },
      "source": [
        "First, let's install and import the required packages.\n"
      ]
    },
    {
      "cell_type": "code",
      "execution_count": null,
      "metadata": {
        "colab": {
          "base_uri": "https://localhost:8080/"
        },
        "id": "j35p4f3d2JfL",
        "outputId": "8cdcf445-1ee8-4779-d93d-1ac7300dd86f"
      },
      "outputs": [
        {
          "output_type": "stream",
          "name": "stdout",
          "text": [
            "Looking in indexes: https://pypi.org/simple, https://us-python.pkg.dev/colab-wheels/public/simple/\n",
            "Requirement already satisfied: scikit-learn==1.0.2 in /usr/local/lib/python3.8/dist-packages (1.0.2)\n",
            "Requirement already satisfied: threadpoolctl>=2.0.0 in /usr/local/lib/python3.8/dist-packages (from scikit-learn==1.0.2) (3.1.0)\n",
            "Requirement already satisfied: numpy>=1.14.6 in /usr/local/lib/python3.8/dist-packages (from scikit-learn==1.0.2) (1.21.6)\n",
            "Requirement already satisfied: joblib>=0.11 in /usr/local/lib/python3.8/dist-packages (from scikit-learn==1.0.2) (1.2.0)\n",
            "Requirement already satisfied: scipy>=1.1.0 in /usr/local/lib/python3.8/dist-packages (from scikit-learn==1.0.2) (1.7.3)\n"
          ]
        }
      ],
      "source": [
        "!pip install scikit-learn==1.0.2"
      ]
    },
    {
      "cell_type": "code",
      "execution_count": null,
      "metadata": {
        "id": "qDS0qCfz2JfN"
      },
      "outputs": [],
      "source": [
        "import pandas as pd\n",
        "import numpy as np\n",
        "from sklearn import preprocessing"
      ]
    },
    {
      "cell_type": "code",
      "execution_count": null,
      "metadata": {
        "id": "Atkm6e6B2JfO"
      },
      "outputs": [],
      "source": [
        "# also set a random state\n",
        "rs = 123"
      ]
    },
    {
      "cell_type": "markdown",
      "metadata": {
        "id": "yZOqbsNX2JfO"
      },
      "source": [
        "### Lets generate user profiles using course genres and ratings\n"
      ]
    },
    {
      "cell_type": "markdown",
      "metadata": {
        "id": "JTcgVPAJ2JfO"
      },
      "source": [
        "Suppose we have a very simple course genre dataset that contains only three genres: `Python`, `Database`, and `MachineLearning`.\n",
        "\n",
        "We also have two courses: `Machine Learning with Python` and `SQL Learning with Python` and their genres as follows:\n"
      ]
    },
    {
      "cell_type": "code",
      "execution_count": null,
      "metadata": {
        "colab": {
          "base_uri": "https://localhost:8080/",
          "height": 112
        },
        "id": "A1w2JZw92JfP",
        "outputId": "0e7eb1de-563c-4926-f726-8e91d1c7941f"
      },
      "outputs": [
        {
          "output_type": "execute_result",
          "data": {
            "text/plain": [
              "                          Title  Python  Database  MachineLearning\n",
              "0  Machine Learning with Python       1         0                1\n",
              "1               SQL with Python       1         1                0"
            ],
            "text/html": [
              "\n",
              "  <div id=\"df-dfb8a395-4d11-436c-9873-4bef9aeeb0c6\">\n",
              "    <div class=\"colab-df-container\">\n",
              "      <div>\n",
              "<style scoped>\n",
              "    .dataframe tbody tr th:only-of-type {\n",
              "        vertical-align: middle;\n",
              "    }\n",
              "\n",
              "    .dataframe tbody tr th {\n",
              "        vertical-align: top;\n",
              "    }\n",
              "\n",
              "    .dataframe thead th {\n",
              "        text-align: right;\n",
              "    }\n",
              "</style>\n",
              "<table border=\"1\" class=\"dataframe\">\n",
              "  <thead>\n",
              "    <tr style=\"text-align: right;\">\n",
              "      <th></th>\n",
              "      <th>Title</th>\n",
              "      <th>Python</th>\n",
              "      <th>Database</th>\n",
              "      <th>MachineLearning</th>\n",
              "    </tr>\n",
              "  </thead>\n",
              "  <tbody>\n",
              "    <tr>\n",
              "      <th>0</th>\n",
              "      <td>Machine Learning with Python</td>\n",
              "      <td>1</td>\n",
              "      <td>0</td>\n",
              "      <td>1</td>\n",
              "    </tr>\n",
              "    <tr>\n",
              "      <th>1</th>\n",
              "      <td>SQL with Python</td>\n",
              "      <td>1</td>\n",
              "      <td>1</td>\n",
              "      <td>0</td>\n",
              "    </tr>\n",
              "  </tbody>\n",
              "</table>\n",
              "</div>\n",
              "      <button class=\"colab-df-convert\" onclick=\"convertToInteractive('df-dfb8a395-4d11-436c-9873-4bef9aeeb0c6')\"\n",
              "              title=\"Convert this dataframe to an interactive table.\"\n",
              "              style=\"display:none;\">\n",
              "        \n",
              "  <svg xmlns=\"http://www.w3.org/2000/svg\" height=\"24px\"viewBox=\"0 0 24 24\"\n",
              "       width=\"24px\">\n",
              "    <path d=\"M0 0h24v24H0V0z\" fill=\"none\"/>\n",
              "    <path d=\"M18.56 5.44l.94 2.06.94-2.06 2.06-.94-2.06-.94-.94-2.06-.94 2.06-2.06.94zm-11 1L8.5 8.5l.94-2.06 2.06-.94-2.06-.94L8.5 2.5l-.94 2.06-2.06.94zm10 10l.94 2.06.94-2.06 2.06-.94-2.06-.94-.94-2.06-.94 2.06-2.06.94z\"/><path d=\"M17.41 7.96l-1.37-1.37c-.4-.4-.92-.59-1.43-.59-.52 0-1.04.2-1.43.59L10.3 9.45l-7.72 7.72c-.78.78-.78 2.05 0 2.83L4 21.41c.39.39.9.59 1.41.59.51 0 1.02-.2 1.41-.59l7.78-7.78 2.81-2.81c.8-.78.8-2.07 0-2.86zM5.41 20L4 18.59l7.72-7.72 1.47 1.35L5.41 20z\"/>\n",
              "  </svg>\n",
              "      </button>\n",
              "      \n",
              "  <style>\n",
              "    .colab-df-container {\n",
              "      display:flex;\n",
              "      flex-wrap:wrap;\n",
              "      gap: 12px;\n",
              "    }\n",
              "\n",
              "    .colab-df-convert {\n",
              "      background-color: #E8F0FE;\n",
              "      border: none;\n",
              "      border-radius: 50%;\n",
              "      cursor: pointer;\n",
              "      display: none;\n",
              "      fill: #1967D2;\n",
              "      height: 32px;\n",
              "      padding: 0 0 0 0;\n",
              "      width: 32px;\n",
              "    }\n",
              "\n",
              "    .colab-df-convert:hover {\n",
              "      background-color: #E2EBFA;\n",
              "      box-shadow: 0px 1px 2px rgba(60, 64, 67, 0.3), 0px 1px 3px 1px rgba(60, 64, 67, 0.15);\n",
              "      fill: #174EA6;\n",
              "    }\n",
              "\n",
              "    [theme=dark] .colab-df-convert {\n",
              "      background-color: #3B4455;\n",
              "      fill: #D2E3FC;\n",
              "    }\n",
              "\n",
              "    [theme=dark] .colab-df-convert:hover {\n",
              "      background-color: #434B5C;\n",
              "      box-shadow: 0px 1px 3px 1px rgba(0, 0, 0, 0.15);\n",
              "      filter: drop-shadow(0px 1px 2px rgba(0, 0, 0, 0.3));\n",
              "      fill: #FFFFFF;\n",
              "    }\n",
              "  </style>\n",
              "\n",
              "      <script>\n",
              "        const buttonEl =\n",
              "          document.querySelector('#df-dfb8a395-4d11-436c-9873-4bef9aeeb0c6 button.colab-df-convert');\n",
              "        buttonEl.style.display =\n",
              "          google.colab.kernel.accessAllowed ? 'block' : 'none';\n",
              "\n",
              "        async function convertToInteractive(key) {\n",
              "          const element = document.querySelector('#df-dfb8a395-4d11-436c-9873-4bef9aeeb0c6');\n",
              "          const dataTable =\n",
              "            await google.colab.kernel.invokeFunction('convertToInteractive',\n",
              "                                                     [key], {});\n",
              "          if (!dataTable) return;\n",
              "\n",
              "          const docLinkHtml = 'Like what you see? Visit the ' +\n",
              "            '<a target=\"_blank\" href=https://colab.research.google.com/notebooks/data_table.ipynb>data table notebook</a>'\n",
              "            + ' to learn more about interactive tables.';\n",
              "          element.innerHTML = '';\n",
              "          dataTable['output_type'] = 'display_data';\n",
              "          await google.colab.output.renderOutput(dataTable, element);\n",
              "          const docLink = document.createElement('div');\n",
              "          docLink.innerHTML = docLinkHtml;\n",
              "          element.appendChild(docLink);\n",
              "        }\n",
              "      </script>\n",
              "    </div>\n",
              "  </div>\n",
              "  "
            ]
          },
          "metadata": {},
          "execution_count": 7
        }
      ],
      "source": [
        "course_genres = ['Python', 'Database', 'MachineLearning']\n",
        "courses = [['Machine Learning with Python', 1, 0, 1], [\"SQL with Python\", 1, 1, 0]]\n",
        "courses_df = pd.DataFrame(courses, columns = ['Title'] + course_genres)\n",
        "courses_df"
      ]
    },
    {
      "cell_type": "markdown",
      "metadata": {
        "id": "Rfp1YQoX2JfP"
      },
      "source": [
        "As we can see from the dataset:\n",
        "\n",
        "*   Course `Machine Learning with Python` has `Python` and `MachineLearning` genres\n",
        "*   Course `SQL with Python` has `Python` and `Database` genres\n"
      ]
    },
    {
      "cell_type": "markdown",
      "metadata": {
        "id": "5G-4rvhN2JfP"
      },
      "source": [
        "Then let's create another simple user rating dataframe containing the ratings from two users.\n"
      ]
    },
    {
      "cell_type": "code",
      "execution_count": null,
      "metadata": {
        "colab": {
          "base_uri": "https://localhost:8080/",
          "height": 112
        },
        "id": "z7fSafR02JfQ",
        "outputId": "23b463bf-fa28-4e98-9b2c-7136c5f7b596"
      },
      "outputs": [
        {
          "output_type": "execute_result",
          "data": {
            "text/plain": [
              "    User                         Title  Rating\n",
              "0  user0  Machine Learning with Python       3\n",
              "1  user1               SQL with Python       2"
            ],
            "text/html": [
              "\n",
              "  <div id=\"df-f083cb9f-68eb-4886-abd6-1bb028ccd3e9\">\n",
              "    <div class=\"colab-df-container\">\n",
              "      <div>\n",
              "<style scoped>\n",
              "    .dataframe tbody tr th:only-of-type {\n",
              "        vertical-align: middle;\n",
              "    }\n",
              "\n",
              "    .dataframe tbody tr th {\n",
              "        vertical-align: top;\n",
              "    }\n",
              "\n",
              "    .dataframe thead th {\n",
              "        text-align: right;\n",
              "    }\n",
              "</style>\n",
              "<table border=\"1\" class=\"dataframe\">\n",
              "  <thead>\n",
              "    <tr style=\"text-align: right;\">\n",
              "      <th></th>\n",
              "      <th>User</th>\n",
              "      <th>Title</th>\n",
              "      <th>Rating</th>\n",
              "    </tr>\n",
              "  </thead>\n",
              "  <tbody>\n",
              "    <tr>\n",
              "      <th>0</th>\n",
              "      <td>user0</td>\n",
              "      <td>Machine Learning with Python</td>\n",
              "      <td>3</td>\n",
              "    </tr>\n",
              "    <tr>\n",
              "      <th>1</th>\n",
              "      <td>user1</td>\n",
              "      <td>SQL with Python</td>\n",
              "      <td>2</td>\n",
              "    </tr>\n",
              "  </tbody>\n",
              "</table>\n",
              "</div>\n",
              "      <button class=\"colab-df-convert\" onclick=\"convertToInteractive('df-f083cb9f-68eb-4886-abd6-1bb028ccd3e9')\"\n",
              "              title=\"Convert this dataframe to an interactive table.\"\n",
              "              style=\"display:none;\">\n",
              "        \n",
              "  <svg xmlns=\"http://www.w3.org/2000/svg\" height=\"24px\"viewBox=\"0 0 24 24\"\n",
              "       width=\"24px\">\n",
              "    <path d=\"M0 0h24v24H0V0z\" fill=\"none\"/>\n",
              "    <path d=\"M18.56 5.44l.94 2.06.94-2.06 2.06-.94-2.06-.94-.94-2.06-.94 2.06-2.06.94zm-11 1L8.5 8.5l.94-2.06 2.06-.94-2.06-.94L8.5 2.5l-.94 2.06-2.06.94zm10 10l.94 2.06.94-2.06 2.06-.94-2.06-.94-.94-2.06-.94 2.06-2.06.94z\"/><path d=\"M17.41 7.96l-1.37-1.37c-.4-.4-.92-.59-1.43-.59-.52 0-1.04.2-1.43.59L10.3 9.45l-7.72 7.72c-.78.78-.78 2.05 0 2.83L4 21.41c.39.39.9.59 1.41.59.51 0 1.02-.2 1.41-.59l7.78-7.78 2.81-2.81c.8-.78.8-2.07 0-2.86zM5.41 20L4 18.59l7.72-7.72 1.47 1.35L5.41 20z\"/>\n",
              "  </svg>\n",
              "      </button>\n",
              "      \n",
              "  <style>\n",
              "    .colab-df-container {\n",
              "      display:flex;\n",
              "      flex-wrap:wrap;\n",
              "      gap: 12px;\n",
              "    }\n",
              "\n",
              "    .colab-df-convert {\n",
              "      background-color: #E8F0FE;\n",
              "      border: none;\n",
              "      border-radius: 50%;\n",
              "      cursor: pointer;\n",
              "      display: none;\n",
              "      fill: #1967D2;\n",
              "      height: 32px;\n",
              "      padding: 0 0 0 0;\n",
              "      width: 32px;\n",
              "    }\n",
              "\n",
              "    .colab-df-convert:hover {\n",
              "      background-color: #E2EBFA;\n",
              "      box-shadow: 0px 1px 2px rgba(60, 64, 67, 0.3), 0px 1px 3px 1px rgba(60, 64, 67, 0.15);\n",
              "      fill: #174EA6;\n",
              "    }\n",
              "\n",
              "    [theme=dark] .colab-df-convert {\n",
              "      background-color: #3B4455;\n",
              "      fill: #D2E3FC;\n",
              "    }\n",
              "\n",
              "    [theme=dark] .colab-df-convert:hover {\n",
              "      background-color: #434B5C;\n",
              "      box-shadow: 0px 1px 3px 1px rgba(0, 0, 0, 0.15);\n",
              "      filter: drop-shadow(0px 1px 2px rgba(0, 0, 0, 0.3));\n",
              "      fill: #FFFFFF;\n",
              "    }\n",
              "  </style>\n",
              "\n",
              "      <script>\n",
              "        const buttonEl =\n",
              "          document.querySelector('#df-f083cb9f-68eb-4886-abd6-1bb028ccd3e9 button.colab-df-convert');\n",
              "        buttonEl.style.display =\n",
              "          google.colab.kernel.accessAllowed ? 'block' : 'none';\n",
              "\n",
              "        async function convertToInteractive(key) {\n",
              "          const element = document.querySelector('#df-f083cb9f-68eb-4886-abd6-1bb028ccd3e9');\n",
              "          const dataTable =\n",
              "            await google.colab.kernel.invokeFunction('convertToInteractive',\n",
              "                                                     [key], {});\n",
              "          if (!dataTable) return;\n",
              "\n",
              "          const docLinkHtml = 'Like what you see? Visit the ' +\n",
              "            '<a target=\"_blank\" href=https://colab.research.google.com/notebooks/data_table.ipynb>data table notebook</a>'\n",
              "            + ' to learn more about interactive tables.';\n",
              "          element.innerHTML = '';\n",
              "          dataTable['output_type'] = 'display_data';\n",
              "          await google.colab.output.renderOutput(dataTable, element);\n",
              "          const docLink = document.createElement('div');\n",
              "          docLink.innerHTML = docLinkHtml;\n",
              "          element.appendChild(docLink);\n",
              "        }\n",
              "      </script>\n",
              "    </div>\n",
              "  </div>\n",
              "  "
            ]
          },
          "metadata": {},
          "execution_count": 8
        }
      ],
      "source": [
        "users = [['user0', 'Machine Learning with Python', 3], ['user1', 'SQL with Python', 2]]\n",
        "users_df = pd.DataFrame(users, columns = ['User', 'Title', 'Rating'])\n",
        "users_df"
      ]
    },
    {
      "cell_type": "markdown",
      "metadata": {
        "id": "PURfZ5X82JfQ"
      },
      "source": [
        "Suppose user 0 rated `Machine Learning with Python` as 3 (completed with a certificate)  and user 1 rated `SQL with Python` as 2 (just audited or not completed).\n",
        "\n",
        "Based on their course ratings and course genres. Can we generate a profile vector for each user?\n"
      ]
    },
    {
      "cell_type": "markdown",
      "metadata": {
        "id": "RYwtDrp02JfR"
      },
      "source": [
        "Intuitively, since user 0 has completed the course `Machine Learning with Python`, they should be interested in those genres associated with the course, i.e.,Machine Learning and Python.\n",
        "\n",
        "On the other hand, user 0 has not taken the `SQL with Python` so it is likely they are not interested in the database genre.\n"
      ]
    },
    {
      "cell_type": "markdown",
      "metadata": {
        "id": "-GaHdP1R2JfR"
      },
      "source": [
        "To quantify such user interests, we could multiply user 0's rating vector with a course genre matrix and get the weighted genre's vector for the courses:\n"
      ]
    },
    {
      "cell_type": "code",
      "execution_count": null,
      "metadata": {
        "id": "eiNYKgth2JfR"
      },
      "outputs": [],
      "source": [
        "# User 0 rated course 0 as 3 and course 1 as 0/NA (unknown or not interested)\n",
        "u0 = np.array([[3, 0]])"
      ]
    },
    {
      "cell_type": "code",
      "execution_count": null,
      "metadata": {
        "id": "YyjLvCh-2JfR"
      },
      "outputs": [],
      "source": [
        "# The course genre's matrix\n",
        "C = courses_df[['Python', 'Database', 'MachineLearning']].to_numpy()"
      ]
    },
    {
      "cell_type": "markdown",
      "metadata": {
        "id": "KYjkVAF32JfS"
      },
      "source": [
        "Before multiple them, let's first print their shapes:\n"
      ]
    },
    {
      "cell_type": "code",
      "execution_count": null,
      "metadata": {
        "colab": {
          "base_uri": "https://localhost:8080/"
        },
        "id": "Vz34uI582JfS",
        "outputId": "c9e26a25-2b65-4939-af3f-18cd781abc31"
      },
      "outputs": [
        {
          "output_type": "stream",
          "name": "stdout",
          "text": [
            "User profile vector shape (1, 2) and course genre matrix shape (2, 3)\n"
          ]
        }
      ],
      "source": [
        "print(f\"User profile vector shape {u0.shape} and course genre matrix shape {C.shape}\")"
      ]
    },
    {
      "cell_type": "markdown",
      "metadata": {
        "id": "k5FScNI92JfS"
      },
      "source": [
        "If we multiple a $1 x 2$ vector with a $2 x 3$ matrix, we will get a 1 x 3 vector representing the user profile vector.\n"
      ]
    },
    {
      "cell_type": "markdown",
      "metadata": {
        "id": "kTorGzIc2JfS"
      },
      "source": [
        "$$u\\_0C = \\begin{bmatrix} 3 & 0 \\end{bmatrix} \\begin{bmatrix} 1 & 0 & 1 \\\\\\ 1 & 1 & 0 \\end{bmatrix}$$\n"
      ]
    },
    {
      "cell_type": "code",
      "execution_count": null,
      "metadata": {
        "colab": {
          "base_uri": "https://localhost:8080/"
        },
        "id": "uT3ljVao2JfT",
        "outputId": "06a9dcd2-8306-4b8c-ab6d-191e47f185a9"
      },
      "outputs": [
        {
          "output_type": "execute_result",
          "data": {
            "text/plain": [
              "array([[3, 0, 3]])"
            ]
          },
          "metadata": {},
          "execution_count": 12
        }
      ],
      "source": [
        "u0_weights = np.matmul(u0, C)\n",
        "u0_weights"
      ]
    },
    {
      "cell_type": "code",
      "execution_count": null,
      "metadata": {
        "colab": {
          "base_uri": "https://localhost:8080/"
        },
        "id": "7eK4NcnR2JfU",
        "outputId": "6e10c07d-500d-46d3-e81e-2fa572d94916"
      },
      "outputs": [
        {
          "output_type": "execute_result",
          "data": {
            "text/plain": [
              "['Python', 'Database', 'MachineLearning']"
            ]
          },
          "metadata": {},
          "execution_count": 13
        }
      ],
      "source": [
        "course_genres"
      ]
    },
    {
      "cell_type": "markdown",
      "metadata": {
        "id": "OModj8yZ2JfU"
      },
      "source": [
        "Let's take a look at the result. This `u0_weights` is also called the weighted genre vector and represents the interests of the user for each genre based on the courses they have rated. As we can see from the results, user0 seems interested in `Python` and `MachineLearning` with a rating of 3.\n"
      ]
    },
    {
      "cell_type": "markdown",
      "metadata": {
        "id": "zGdo13Wm2JfU"
      },
      "source": [
        "Similarly, we can calculate the weighted genre matrix for user 1:\n"
      ]
    },
    {
      "cell_type": "markdown",
      "metadata": {
        "id": "RXWjDypt2JfV"
      },
      "source": [
        "$$u\\_1C = \\begin{bmatrix} 0 & 2 \\end{bmatrix} \\begin{bmatrix} 1 & 0 & 1 \\\\\\ 1 & 1 & 0 \\end{bmatrix}$$\n"
      ]
    },
    {
      "cell_type": "code",
      "execution_count": null,
      "metadata": {
        "id": "kbXlwIz92JfW"
      },
      "outputs": [],
      "source": [
        "# User 1 rated course 0 as 0 (unknown or not interested) and course 1 as 2\n",
        "u1 = np.array([[0, 2]])"
      ]
    },
    {
      "cell_type": "code",
      "execution_count": null,
      "metadata": {
        "colab": {
          "base_uri": "https://localhost:8080/"
        },
        "id": "1hO6x34f2JfW",
        "outputId": "ee0ef469-be2e-4ee2-e7c3-2101d48d30da"
      },
      "outputs": [
        {
          "output_type": "execute_result",
          "data": {
            "text/plain": [
              "array([[2, 2, 0]])"
            ]
          },
          "metadata": {},
          "execution_count": 15
        }
      ],
      "source": [
        "u1_weights = np.matmul(u1, C)\n",
        "u1_weights"
      ]
    },
    {
      "cell_type": "markdown",
      "metadata": {
        "id": "CqeXnvoA2JfY"
      },
      "source": [
        "As we can see from the `u1_weights` vector, user0 seems very interested in `Python` and `Database` with a value 2.\n"
      ]
    },
    {
      "cell_type": "markdown",
      "metadata": {
        "id": "v_teHC3U2Jfa"
      },
      "source": [
        "Let's combine the two weighted genre vectors and create a user profile dataframe:\n"
      ]
    },
    {
      "cell_type": "code",
      "execution_count": null,
      "metadata": {
        "id": "bEC8_uJ72Jfa"
      },
      "outputs": [],
      "source": [
        "weights = np.concatenate((u0_weights.reshape(1, 3), u1_weights.reshape(1, 3)), axis=0)\n",
        "profiles_df = pd.DataFrame(weights, columns=['Python', 'Database', 'MachineLearning'])\n",
        "profiles_df.insert(0, 'user', ['user0', 'user1'])"
      ]
    },
    {
      "cell_type": "code",
      "execution_count": null,
      "metadata": {
        "colab": {
          "base_uri": "https://localhost:8080/",
          "height": 112
        },
        "id": "iU3WkAZo2Jfb",
        "outputId": "46243cac-3f1f-4eb4-e5e2-8e8b2aab1d24"
      },
      "outputs": [
        {
          "output_type": "execute_result",
          "data": {
            "text/plain": [
              "    user  Python  Database  MachineLearning\n",
              "0  user0       3         0                3\n",
              "1  user1       2         2                0"
            ],
            "text/html": [
              "\n",
              "  <div id=\"df-d0c754ac-d0ce-47a2-915f-d4e5a0df0033\">\n",
              "    <div class=\"colab-df-container\">\n",
              "      <div>\n",
              "<style scoped>\n",
              "    .dataframe tbody tr th:only-of-type {\n",
              "        vertical-align: middle;\n",
              "    }\n",
              "\n",
              "    .dataframe tbody tr th {\n",
              "        vertical-align: top;\n",
              "    }\n",
              "\n",
              "    .dataframe thead th {\n",
              "        text-align: right;\n",
              "    }\n",
              "</style>\n",
              "<table border=\"1\" class=\"dataframe\">\n",
              "  <thead>\n",
              "    <tr style=\"text-align: right;\">\n",
              "      <th></th>\n",
              "      <th>user</th>\n",
              "      <th>Python</th>\n",
              "      <th>Database</th>\n",
              "      <th>MachineLearning</th>\n",
              "    </tr>\n",
              "  </thead>\n",
              "  <tbody>\n",
              "    <tr>\n",
              "      <th>0</th>\n",
              "      <td>user0</td>\n",
              "      <td>3</td>\n",
              "      <td>0</td>\n",
              "      <td>3</td>\n",
              "    </tr>\n",
              "    <tr>\n",
              "      <th>1</th>\n",
              "      <td>user1</td>\n",
              "      <td>2</td>\n",
              "      <td>2</td>\n",
              "      <td>0</td>\n",
              "    </tr>\n",
              "  </tbody>\n",
              "</table>\n",
              "</div>\n",
              "      <button class=\"colab-df-convert\" onclick=\"convertToInteractive('df-d0c754ac-d0ce-47a2-915f-d4e5a0df0033')\"\n",
              "              title=\"Convert this dataframe to an interactive table.\"\n",
              "              style=\"display:none;\">\n",
              "        \n",
              "  <svg xmlns=\"http://www.w3.org/2000/svg\" height=\"24px\"viewBox=\"0 0 24 24\"\n",
              "       width=\"24px\">\n",
              "    <path d=\"M0 0h24v24H0V0z\" fill=\"none\"/>\n",
              "    <path d=\"M18.56 5.44l.94 2.06.94-2.06 2.06-.94-2.06-.94-.94-2.06-.94 2.06-2.06.94zm-11 1L8.5 8.5l.94-2.06 2.06-.94-2.06-.94L8.5 2.5l-.94 2.06-2.06.94zm10 10l.94 2.06.94-2.06 2.06-.94-2.06-.94-.94-2.06-.94 2.06-2.06.94z\"/><path d=\"M17.41 7.96l-1.37-1.37c-.4-.4-.92-.59-1.43-.59-.52 0-1.04.2-1.43.59L10.3 9.45l-7.72 7.72c-.78.78-.78 2.05 0 2.83L4 21.41c.39.39.9.59 1.41.59.51 0 1.02-.2 1.41-.59l7.78-7.78 2.81-2.81c.8-.78.8-2.07 0-2.86zM5.41 20L4 18.59l7.72-7.72 1.47 1.35L5.41 20z\"/>\n",
              "  </svg>\n",
              "      </button>\n",
              "      \n",
              "  <style>\n",
              "    .colab-df-container {\n",
              "      display:flex;\n",
              "      flex-wrap:wrap;\n",
              "      gap: 12px;\n",
              "    }\n",
              "\n",
              "    .colab-df-convert {\n",
              "      background-color: #E8F0FE;\n",
              "      border: none;\n",
              "      border-radius: 50%;\n",
              "      cursor: pointer;\n",
              "      display: none;\n",
              "      fill: #1967D2;\n",
              "      height: 32px;\n",
              "      padding: 0 0 0 0;\n",
              "      width: 32px;\n",
              "    }\n",
              "\n",
              "    .colab-df-convert:hover {\n",
              "      background-color: #E2EBFA;\n",
              "      box-shadow: 0px 1px 2px rgba(60, 64, 67, 0.3), 0px 1px 3px 1px rgba(60, 64, 67, 0.15);\n",
              "      fill: #174EA6;\n",
              "    }\n",
              "\n",
              "    [theme=dark] .colab-df-convert {\n",
              "      background-color: #3B4455;\n",
              "      fill: #D2E3FC;\n",
              "    }\n",
              "\n",
              "    [theme=dark] .colab-df-convert:hover {\n",
              "      background-color: #434B5C;\n",
              "      box-shadow: 0px 1px 3px 1px rgba(0, 0, 0, 0.15);\n",
              "      filter: drop-shadow(0px 1px 2px rgba(0, 0, 0, 0.3));\n",
              "      fill: #FFFFFF;\n",
              "    }\n",
              "  </style>\n",
              "\n",
              "      <script>\n",
              "        const buttonEl =\n",
              "          document.querySelector('#df-d0c754ac-d0ce-47a2-915f-d4e5a0df0033 button.colab-df-convert');\n",
              "        buttonEl.style.display =\n",
              "          google.colab.kernel.accessAllowed ? 'block' : 'none';\n",
              "\n",
              "        async function convertToInteractive(key) {\n",
              "          const element = document.querySelector('#df-d0c754ac-d0ce-47a2-915f-d4e5a0df0033');\n",
              "          const dataTable =\n",
              "            await google.colab.kernel.invokeFunction('convertToInteractive',\n",
              "                                                     [key], {});\n",
              "          if (!dataTable) return;\n",
              "\n",
              "          const docLinkHtml = 'Like what you see? Visit the ' +\n",
              "            '<a target=\"_blank\" href=https://colab.research.google.com/notebooks/data_table.ipynb>data table notebook</a>'\n",
              "            + ' to learn more about interactive tables.';\n",
              "          element.innerHTML = '';\n",
              "          dataTable['output_type'] = 'display_data';\n",
              "          await google.colab.output.renderOutput(dataTable, element);\n",
              "          const docLink = document.createElement('div');\n",
              "          docLink.innerHTML = docLinkHtml;\n",
              "          element.appendChild(docLink);\n",
              "        }\n",
              "      </script>\n",
              "    </div>\n",
              "  </div>\n",
              "  "
            ]
          },
          "metadata": {},
          "execution_count": 17
        }
      ],
      "source": [
        "profiles_df"
      ]
    },
    {
      "cell_type": "markdown",
      "metadata": {
        "id": "dV1f25Ta2Jfc"
      },
      "source": [
        "Now this `profiles_df` clearly shows the user profiles or course interests.\n"
      ]
    },
    {
      "cell_type": "markdown",
      "metadata": {
        "id": "x6QVox7w2Jfc"
      },
      "source": [
        "### Generate recommendation scores for some new courses\n"
      ]
    },
    {
      "cell_type": "markdown",
      "metadata": {
        "id": "sF2LA2-x2Jfd"
      },
      "source": [
        "With the user profiles generated, we can see that `user0` is very interested in Python and machine learning, and `user1` is very interested in Python and database.\n"
      ]
    },
    {
      "cell_type": "markdown",
      "metadata": {
        "id": "sNBsn8_o2Jfd"
      },
      "source": [
        "Now, suppose we published some new courses titled as `Python 101`, `Database 101`, and `Machine Learning with R`:\n"
      ]
    },
    {
      "cell_type": "code",
      "execution_count": null,
      "metadata": {
        "colab": {
          "base_uri": "https://localhost:8080/",
          "height": 143
        },
        "id": "E1pxgRpX2Jfd",
        "outputId": "dda9fae4-eec3-4db6-abf7-0c1d8ed47a96"
      },
      "outputs": [
        {
          "output_type": "execute_result",
          "data": {
            "text/plain": [
              "                     Title  Python  Database  MachineLearning\n",
              "0               Python 101       1         0                0\n",
              "1             Database 101       0         1                0\n",
              "2  Machine Learning with R       0         0                1"
            ],
            "text/html": [
              "\n",
              "  <div id=\"df-de0fff2d-7469-40f5-903d-a609ae97b92f\">\n",
              "    <div class=\"colab-df-container\">\n",
              "      <div>\n",
              "<style scoped>\n",
              "    .dataframe tbody tr th:only-of-type {\n",
              "        vertical-align: middle;\n",
              "    }\n",
              "\n",
              "    .dataframe tbody tr th {\n",
              "        vertical-align: top;\n",
              "    }\n",
              "\n",
              "    .dataframe thead th {\n",
              "        text-align: right;\n",
              "    }\n",
              "</style>\n",
              "<table border=\"1\" class=\"dataframe\">\n",
              "  <thead>\n",
              "    <tr style=\"text-align: right;\">\n",
              "      <th></th>\n",
              "      <th>Title</th>\n",
              "      <th>Python</th>\n",
              "      <th>Database</th>\n",
              "      <th>MachineLearning</th>\n",
              "    </tr>\n",
              "  </thead>\n",
              "  <tbody>\n",
              "    <tr>\n",
              "      <th>0</th>\n",
              "      <td>Python 101</td>\n",
              "      <td>1</td>\n",
              "      <td>0</td>\n",
              "      <td>0</td>\n",
              "    </tr>\n",
              "    <tr>\n",
              "      <th>1</th>\n",
              "      <td>Database 101</td>\n",
              "      <td>0</td>\n",
              "      <td>1</td>\n",
              "      <td>0</td>\n",
              "    </tr>\n",
              "    <tr>\n",
              "      <th>2</th>\n",
              "      <td>Machine Learning with R</td>\n",
              "      <td>0</td>\n",
              "      <td>0</td>\n",
              "      <td>1</td>\n",
              "    </tr>\n",
              "  </tbody>\n",
              "</table>\n",
              "</div>\n",
              "      <button class=\"colab-df-convert\" onclick=\"convertToInteractive('df-de0fff2d-7469-40f5-903d-a609ae97b92f')\"\n",
              "              title=\"Convert this dataframe to an interactive table.\"\n",
              "              style=\"display:none;\">\n",
              "        \n",
              "  <svg xmlns=\"http://www.w3.org/2000/svg\" height=\"24px\"viewBox=\"0 0 24 24\"\n",
              "       width=\"24px\">\n",
              "    <path d=\"M0 0h24v24H0V0z\" fill=\"none\"/>\n",
              "    <path d=\"M18.56 5.44l.94 2.06.94-2.06 2.06-.94-2.06-.94-.94-2.06-.94 2.06-2.06.94zm-11 1L8.5 8.5l.94-2.06 2.06-.94-2.06-.94L8.5 2.5l-.94 2.06-2.06.94zm10 10l.94 2.06.94-2.06 2.06-.94-2.06-.94-.94-2.06-.94 2.06-2.06.94z\"/><path d=\"M17.41 7.96l-1.37-1.37c-.4-.4-.92-.59-1.43-.59-.52 0-1.04.2-1.43.59L10.3 9.45l-7.72 7.72c-.78.78-.78 2.05 0 2.83L4 21.41c.39.39.9.59 1.41.59.51 0 1.02-.2 1.41-.59l7.78-7.78 2.81-2.81c.8-.78.8-2.07 0-2.86zM5.41 20L4 18.59l7.72-7.72 1.47 1.35L5.41 20z\"/>\n",
              "  </svg>\n",
              "      </button>\n",
              "      \n",
              "  <style>\n",
              "    .colab-df-container {\n",
              "      display:flex;\n",
              "      flex-wrap:wrap;\n",
              "      gap: 12px;\n",
              "    }\n",
              "\n",
              "    .colab-df-convert {\n",
              "      background-color: #E8F0FE;\n",
              "      border: none;\n",
              "      border-radius: 50%;\n",
              "      cursor: pointer;\n",
              "      display: none;\n",
              "      fill: #1967D2;\n",
              "      height: 32px;\n",
              "      padding: 0 0 0 0;\n",
              "      width: 32px;\n",
              "    }\n",
              "\n",
              "    .colab-df-convert:hover {\n",
              "      background-color: #E2EBFA;\n",
              "      box-shadow: 0px 1px 2px rgba(60, 64, 67, 0.3), 0px 1px 3px 1px rgba(60, 64, 67, 0.15);\n",
              "      fill: #174EA6;\n",
              "    }\n",
              "\n",
              "    [theme=dark] .colab-df-convert {\n",
              "      background-color: #3B4455;\n",
              "      fill: #D2E3FC;\n",
              "    }\n",
              "\n",
              "    [theme=dark] .colab-df-convert:hover {\n",
              "      background-color: #434B5C;\n",
              "      box-shadow: 0px 1px 3px 1px rgba(0, 0, 0, 0.15);\n",
              "      filter: drop-shadow(0px 1px 2px rgba(0, 0, 0, 0.3));\n",
              "      fill: #FFFFFF;\n",
              "    }\n",
              "  </style>\n",
              "\n",
              "      <script>\n",
              "        const buttonEl =\n",
              "          document.querySelector('#df-de0fff2d-7469-40f5-903d-a609ae97b92f button.colab-df-convert');\n",
              "        buttonEl.style.display =\n",
              "          google.colab.kernel.accessAllowed ? 'block' : 'none';\n",
              "\n",
              "        async function convertToInteractive(key) {\n",
              "          const element = document.querySelector('#df-de0fff2d-7469-40f5-903d-a609ae97b92f');\n",
              "          const dataTable =\n",
              "            await google.colab.kernel.invokeFunction('convertToInteractive',\n",
              "                                                     [key], {});\n",
              "          if (!dataTable) return;\n",
              "\n",
              "          const docLinkHtml = 'Like what you see? Visit the ' +\n",
              "            '<a target=\"_blank\" href=https://colab.research.google.com/notebooks/data_table.ipynb>data table notebook</a>'\n",
              "            + ' to learn more about interactive tables.';\n",
              "          element.innerHTML = '';\n",
              "          dataTable['output_type'] = 'display_data';\n",
              "          await google.colab.output.renderOutput(dataTable, element);\n",
              "          const docLink = document.createElement('div');\n",
              "          docLink.innerHTML = docLinkHtml;\n",
              "          element.appendChild(docLink);\n",
              "        }\n",
              "      </script>\n",
              "    </div>\n",
              "  </div>\n",
              "  "
            ]
          },
          "metadata": {},
          "execution_count": 18
        }
      ],
      "source": [
        "new_courses = [['Python 101', 1, 0, 0], [\"Database 101\", 0, 1, 0], [\"Machine Learning with R\", 0, 0, 1]]\n",
        "new_courses_df = pd.DataFrame(new_courses, columns = ['Title', 'Python', 'Database', 'MachineLearning'])\n",
        "new_courses_df"
      ]
    },
    {
      "cell_type": "markdown",
      "metadata": {
        "id": "KlIPQTxr2Jfd"
      },
      "source": [
        "Next, how can we calculate a recommendation score for each new course with respect to `user0` and `user1`, using user profile vectors and genre vectors?\n"
      ]
    },
    {
      "cell_type": "markdown",
      "metadata": {
        "id": "P4-FaFhn2Jfe"
      },
      "source": [
        "One simple but effective way is to apply the dot product to the user profile vector and course genre vector (as they always have the same shape). Since we have two users and three courses, we need to perform a matrix multiplication:\n"
      ]
    },
    {
      "cell_type": "code",
      "execution_count": null,
      "metadata": {
        "colab": {
          "base_uri": "https://localhost:8080/",
          "height": 112
        },
        "id": "AsFh07TF2Jfe",
        "outputId": "34a93a48-6cb6-4dd6-a376-9bd3db67a1d0"
      },
      "outputs": [
        {
          "output_type": "execute_result",
          "data": {
            "text/plain": [
              "    user  Python  Database  MachineLearning\n",
              "0  user0       3         0                3\n",
              "1  user1       2         2                0"
            ],
            "text/html": [
              "\n",
              "  <div id=\"df-fa7c5e82-cfc1-4bc2-a9d4-93012a532b81\">\n",
              "    <div class=\"colab-df-container\">\n",
              "      <div>\n",
              "<style scoped>\n",
              "    .dataframe tbody tr th:only-of-type {\n",
              "        vertical-align: middle;\n",
              "    }\n",
              "\n",
              "    .dataframe tbody tr th {\n",
              "        vertical-align: top;\n",
              "    }\n",
              "\n",
              "    .dataframe thead th {\n",
              "        text-align: right;\n",
              "    }\n",
              "</style>\n",
              "<table border=\"1\" class=\"dataframe\">\n",
              "  <thead>\n",
              "    <tr style=\"text-align: right;\">\n",
              "      <th></th>\n",
              "      <th>user</th>\n",
              "      <th>Python</th>\n",
              "      <th>Database</th>\n",
              "      <th>MachineLearning</th>\n",
              "    </tr>\n",
              "  </thead>\n",
              "  <tbody>\n",
              "    <tr>\n",
              "      <th>0</th>\n",
              "      <td>user0</td>\n",
              "      <td>3</td>\n",
              "      <td>0</td>\n",
              "      <td>3</td>\n",
              "    </tr>\n",
              "    <tr>\n",
              "      <th>1</th>\n",
              "      <td>user1</td>\n",
              "      <td>2</td>\n",
              "      <td>2</td>\n",
              "      <td>0</td>\n",
              "    </tr>\n",
              "  </tbody>\n",
              "</table>\n",
              "</div>\n",
              "      <button class=\"colab-df-convert\" onclick=\"convertToInteractive('df-fa7c5e82-cfc1-4bc2-a9d4-93012a532b81')\"\n",
              "              title=\"Convert this dataframe to an interactive table.\"\n",
              "              style=\"display:none;\">\n",
              "        \n",
              "  <svg xmlns=\"http://www.w3.org/2000/svg\" height=\"24px\"viewBox=\"0 0 24 24\"\n",
              "       width=\"24px\">\n",
              "    <path d=\"M0 0h24v24H0V0z\" fill=\"none\"/>\n",
              "    <path d=\"M18.56 5.44l.94 2.06.94-2.06 2.06-.94-2.06-.94-.94-2.06-.94 2.06-2.06.94zm-11 1L8.5 8.5l.94-2.06 2.06-.94-2.06-.94L8.5 2.5l-.94 2.06-2.06.94zm10 10l.94 2.06.94-2.06 2.06-.94-2.06-.94-.94-2.06-.94 2.06-2.06.94z\"/><path d=\"M17.41 7.96l-1.37-1.37c-.4-.4-.92-.59-1.43-.59-.52 0-1.04.2-1.43.59L10.3 9.45l-7.72 7.72c-.78.78-.78 2.05 0 2.83L4 21.41c.39.39.9.59 1.41.59.51 0 1.02-.2 1.41-.59l7.78-7.78 2.81-2.81c.8-.78.8-2.07 0-2.86zM5.41 20L4 18.59l7.72-7.72 1.47 1.35L5.41 20z\"/>\n",
              "  </svg>\n",
              "      </button>\n",
              "      \n",
              "  <style>\n",
              "    .colab-df-container {\n",
              "      display:flex;\n",
              "      flex-wrap:wrap;\n",
              "      gap: 12px;\n",
              "    }\n",
              "\n",
              "    .colab-df-convert {\n",
              "      background-color: #E8F0FE;\n",
              "      border: none;\n",
              "      border-radius: 50%;\n",
              "      cursor: pointer;\n",
              "      display: none;\n",
              "      fill: #1967D2;\n",
              "      height: 32px;\n",
              "      padding: 0 0 0 0;\n",
              "      width: 32px;\n",
              "    }\n",
              "\n",
              "    .colab-df-convert:hover {\n",
              "      background-color: #E2EBFA;\n",
              "      box-shadow: 0px 1px 2px rgba(60, 64, 67, 0.3), 0px 1px 3px 1px rgba(60, 64, 67, 0.15);\n",
              "      fill: #174EA6;\n",
              "    }\n",
              "\n",
              "    [theme=dark] .colab-df-convert {\n",
              "      background-color: #3B4455;\n",
              "      fill: #D2E3FC;\n",
              "    }\n",
              "\n",
              "    [theme=dark] .colab-df-convert:hover {\n",
              "      background-color: #434B5C;\n",
              "      box-shadow: 0px 1px 3px 1px rgba(0, 0, 0, 0.15);\n",
              "      filter: drop-shadow(0px 1px 2px rgba(0, 0, 0, 0.3));\n",
              "      fill: #FFFFFF;\n",
              "    }\n",
              "  </style>\n",
              "\n",
              "      <script>\n",
              "        const buttonEl =\n",
              "          document.querySelector('#df-fa7c5e82-cfc1-4bc2-a9d4-93012a532b81 button.colab-df-convert');\n",
              "        buttonEl.style.display =\n",
              "          google.colab.kernel.accessAllowed ? 'block' : 'none';\n",
              "\n",
              "        async function convertToInteractive(key) {\n",
              "          const element = document.querySelector('#df-fa7c5e82-cfc1-4bc2-a9d4-93012a532b81');\n",
              "          const dataTable =\n",
              "            await google.colab.kernel.invokeFunction('convertToInteractive',\n",
              "                                                     [key], {});\n",
              "          if (!dataTable) return;\n",
              "\n",
              "          const docLinkHtml = 'Like what you see? Visit the ' +\n",
              "            '<a target=\"_blank\" href=https://colab.research.google.com/notebooks/data_table.ipynb>data table notebook</a>'\n",
              "            + ' to learn more about interactive tables.';\n",
              "          element.innerHTML = '';\n",
              "          dataTable['output_type'] = 'display_data';\n",
              "          await google.colab.output.renderOutput(dataTable, element);\n",
              "          const docLink = document.createElement('div');\n",
              "          docLink.innerHTML = docLinkHtml;\n",
              "          element.appendChild(docLink);\n",
              "        }\n",
              "      </script>\n",
              "    </div>\n",
              "  </div>\n",
              "  "
            ]
          },
          "metadata": {},
          "execution_count": 19
        }
      ],
      "source": [
        "profiles_df"
      ]
    },
    {
      "cell_type": "markdown",
      "metadata": {
        "id": "dgR-gHHT2Jff"
      },
      "source": [
        "Let's convert the course genre dataframe into a 2-D numpy array:\n"
      ]
    },
    {
      "cell_type": "code",
      "execution_count": null,
      "metadata": {
        "colab": {
          "base_uri": "https://localhost:8080/"
        },
        "id": "Blqa3hMd2Jfg",
        "outputId": "728004a2-dbf8-476e-c3db-ca44697d8ce5"
      },
      "outputs": [
        {
          "output_type": "execute_result",
          "data": {
            "text/plain": [
              "array([[1, 0, 0],\n",
              "       [0, 1, 0],\n",
              "       [0, 0, 1]])"
            ]
          },
          "metadata": {},
          "execution_count": 20
        }
      ],
      "source": [
        "# Drop the title column\n",
        "new_courses_df = new_courses_df.loc[:, new_courses_df.columns != 'Title']\n",
        "course_matrix = new_courses_df.values\n",
        "course_matrix"
      ]
    },
    {
      "cell_type": "code",
      "execution_count": null,
      "metadata": {
        "colab": {
          "base_uri": "https://localhost:8080/"
        },
        "id": "AvRE8zPF2Jfg",
        "outputId": "b064a754-09c3-4e1c-c9a0-670004a17ab3"
      },
      "outputs": [
        {
          "output_type": "execute_result",
          "data": {
            "text/plain": [
              "(3, 3)"
            ]
          },
          "metadata": {},
          "execution_count": 21
        }
      ],
      "source": [
        "# course matrix shape\n",
        "course_matrix.shape"
      ]
    },
    {
      "cell_type": "markdown",
      "metadata": {
        "id": "ID1XN4sW2Jfh"
      },
      "source": [
        "As we can see from the above output, the course matrix is a `3 x 3` matrix and each row vector is a course genre vector.\n"
      ]
    },
    {
      "cell_type": "markdown",
      "metadata": {
        "id": "3aB-TaIB2Jfh"
      },
      "source": [
        "Then we can convert the user profile dataframe into another 2-d numpy array:\n"
      ]
    },
    {
      "cell_type": "code",
      "execution_count": null,
      "metadata": {
        "colab": {
          "base_uri": "https://localhost:8080/"
        },
        "id": "yeDiwXva2Jfh",
        "outputId": "9eca4e4c-78f3-4852-c237-d585f1720cb5"
      },
      "outputs": [
        {
          "output_type": "execute_result",
          "data": {
            "text/plain": [
              "array([[3, 0, 3],\n",
              "       [2, 2, 0]])"
            ]
          },
          "metadata": {},
          "execution_count": 22
        }
      ],
      "source": [
        "# Drop the user column\n",
        "profiles_df = profiles_df.loc[:, profiles_df.columns != 'user']\n",
        "profile_matrix = profiles_df.values\n",
        "profile_matrix"
      ]
    },
    {
      "cell_type": "code",
      "execution_count": null,
      "metadata": {
        "colab": {
          "base_uri": "https://localhost:8080/"
        },
        "id": "_AzqE1lw2Jfh",
        "outputId": "232cd1ae-15ec-4091-b678-df0dc01c5489"
      },
      "outputs": [
        {
          "output_type": "execute_result",
          "data": {
            "text/plain": [
              "(2, 3)"
            ]
          },
          "metadata": {},
          "execution_count": 23
        }
      ],
      "source": [
        "profile_matrix.shape"
      ]
    },
    {
      "cell_type": "markdown",
      "metadata": {
        "id": "SLEGOqow2Jfi"
      },
      "source": [
        "The profile matrix is a 2 x 3 matrix and each row is a user profile vector:\n"
      ]
    },
    {
      "cell_type": "markdown",
      "metadata": {
        "id": "KHirXZ0K2Jfi"
      },
      "source": [
        "If we multiply the course matrix and the user profile matrix, we can get the 2 x 3 course recommendation matrix with each element `(i, j)` representing a recommendation score of course `i` to user `j`. Intuitively, if a user `j` is interested in some topics(genres) and if a course `i` also has the same topics(genres), it means the user profile vector and course genre vector share many common dimensions and a dot product is likely to have a large value.\n"
      ]
    },
    {
      "cell_type": "code",
      "execution_count": null,
      "metadata": {
        "colab": {
          "base_uri": "https://localhost:8080/"
        },
        "id": "n9tdfXCG2Jfi",
        "outputId": "bb78db6a-48d6-415b-f79f-1eed187e06bd"
      },
      "outputs": [
        {
          "output_type": "execute_result",
          "data": {
            "text/plain": [
              "array([[3, 2],\n",
              "       [0, 2],\n",
              "       [3, 0]])"
            ]
          },
          "metadata": {},
          "execution_count": 24
        }
      ],
      "source": [
        "scores = np.matmul(course_matrix, profile_matrix.T)\n",
        "scores"
      ]
    },
    {
      "cell_type": "markdown",
      "metadata": {
        "id": "6ctNsBCO2Jfj"
      },
      "source": [
        "Now let's add the course titles and user ids back to make the results more clear:\n"
      ]
    },
    {
      "cell_type": "code",
      "execution_count": null,
      "metadata": {
        "id": "9vKJLm-s2Jfj"
      },
      "outputs": [],
      "source": [
        "scores_df = pd.DataFrame(scores, columns=['User0', 'User1'])\n",
        "scores_df.index = ['Python 101', 'Database 101', 'Machine Learning with R']"
      ]
    },
    {
      "cell_type": "code",
      "execution_count": null,
      "metadata": {
        "colab": {
          "base_uri": "https://localhost:8080/",
          "height": 143
        },
        "id": "pUKxU3vs2Jfj",
        "outputId": "4dd08cbc-84a5-4c26-99bd-46bffa7a9d62"
      },
      "outputs": [
        {
          "output_type": "execute_result",
          "data": {
            "text/plain": [
              "                         User0  User1\n",
              "Python 101                   3      2\n",
              "Database 101                 0      2\n",
              "Machine Learning with R      3      0"
            ],
            "text/html": [
              "\n",
              "  <div id=\"df-7fa8de23-d63a-4a61-b198-6eb145412977\">\n",
              "    <div class=\"colab-df-container\">\n",
              "      <div>\n",
              "<style scoped>\n",
              "    .dataframe tbody tr th:only-of-type {\n",
              "        vertical-align: middle;\n",
              "    }\n",
              "\n",
              "    .dataframe tbody tr th {\n",
              "        vertical-align: top;\n",
              "    }\n",
              "\n",
              "    .dataframe thead th {\n",
              "        text-align: right;\n",
              "    }\n",
              "</style>\n",
              "<table border=\"1\" class=\"dataframe\">\n",
              "  <thead>\n",
              "    <tr style=\"text-align: right;\">\n",
              "      <th></th>\n",
              "      <th>User0</th>\n",
              "      <th>User1</th>\n",
              "    </tr>\n",
              "  </thead>\n",
              "  <tbody>\n",
              "    <tr>\n",
              "      <th>Python 101</th>\n",
              "      <td>3</td>\n",
              "      <td>2</td>\n",
              "    </tr>\n",
              "    <tr>\n",
              "      <th>Database 101</th>\n",
              "      <td>0</td>\n",
              "      <td>2</td>\n",
              "    </tr>\n",
              "    <tr>\n",
              "      <th>Machine Learning with R</th>\n",
              "      <td>3</td>\n",
              "      <td>0</td>\n",
              "    </tr>\n",
              "  </tbody>\n",
              "</table>\n",
              "</div>\n",
              "      <button class=\"colab-df-convert\" onclick=\"convertToInteractive('df-7fa8de23-d63a-4a61-b198-6eb145412977')\"\n",
              "              title=\"Convert this dataframe to an interactive table.\"\n",
              "              style=\"display:none;\">\n",
              "        \n",
              "  <svg xmlns=\"http://www.w3.org/2000/svg\" height=\"24px\"viewBox=\"0 0 24 24\"\n",
              "       width=\"24px\">\n",
              "    <path d=\"M0 0h24v24H0V0z\" fill=\"none\"/>\n",
              "    <path d=\"M18.56 5.44l.94 2.06.94-2.06 2.06-.94-2.06-.94-.94-2.06-.94 2.06-2.06.94zm-11 1L8.5 8.5l.94-2.06 2.06-.94-2.06-.94L8.5 2.5l-.94 2.06-2.06.94zm10 10l.94 2.06.94-2.06 2.06-.94-2.06-.94-.94-2.06-.94 2.06-2.06.94z\"/><path d=\"M17.41 7.96l-1.37-1.37c-.4-.4-.92-.59-1.43-.59-.52 0-1.04.2-1.43.59L10.3 9.45l-7.72 7.72c-.78.78-.78 2.05 0 2.83L4 21.41c.39.39.9.59 1.41.59.51 0 1.02-.2 1.41-.59l7.78-7.78 2.81-2.81c.8-.78.8-2.07 0-2.86zM5.41 20L4 18.59l7.72-7.72 1.47 1.35L5.41 20z\"/>\n",
              "  </svg>\n",
              "      </button>\n",
              "      \n",
              "  <style>\n",
              "    .colab-df-container {\n",
              "      display:flex;\n",
              "      flex-wrap:wrap;\n",
              "      gap: 12px;\n",
              "    }\n",
              "\n",
              "    .colab-df-convert {\n",
              "      background-color: #E8F0FE;\n",
              "      border: none;\n",
              "      border-radius: 50%;\n",
              "      cursor: pointer;\n",
              "      display: none;\n",
              "      fill: #1967D2;\n",
              "      height: 32px;\n",
              "      padding: 0 0 0 0;\n",
              "      width: 32px;\n",
              "    }\n",
              "\n",
              "    .colab-df-convert:hover {\n",
              "      background-color: #E2EBFA;\n",
              "      box-shadow: 0px 1px 2px rgba(60, 64, 67, 0.3), 0px 1px 3px 1px rgba(60, 64, 67, 0.15);\n",
              "      fill: #174EA6;\n",
              "    }\n",
              "\n",
              "    [theme=dark] .colab-df-convert {\n",
              "      background-color: #3B4455;\n",
              "      fill: #D2E3FC;\n",
              "    }\n",
              "\n",
              "    [theme=dark] .colab-df-convert:hover {\n",
              "      background-color: #434B5C;\n",
              "      box-shadow: 0px 1px 3px 1px rgba(0, 0, 0, 0.15);\n",
              "      filter: drop-shadow(0px 1px 2px rgba(0, 0, 0, 0.3));\n",
              "      fill: #FFFFFF;\n",
              "    }\n",
              "  </style>\n",
              "\n",
              "      <script>\n",
              "        const buttonEl =\n",
              "          document.querySelector('#df-7fa8de23-d63a-4a61-b198-6eb145412977 button.colab-df-convert');\n",
              "        buttonEl.style.display =\n",
              "          google.colab.kernel.accessAllowed ? 'block' : 'none';\n",
              "\n",
              "        async function convertToInteractive(key) {\n",
              "          const element = document.querySelector('#df-7fa8de23-d63a-4a61-b198-6eb145412977');\n",
              "          const dataTable =\n",
              "            await google.colab.kernel.invokeFunction('convertToInteractive',\n",
              "                                                     [key], {});\n",
              "          if (!dataTable) return;\n",
              "\n",
              "          const docLinkHtml = 'Like what you see? Visit the ' +\n",
              "            '<a target=\"_blank\" href=https://colab.research.google.com/notebooks/data_table.ipynb>data table notebook</a>'\n",
              "            + ' to learn more about interactive tables.';\n",
              "          element.innerHTML = '';\n",
              "          dataTable['output_type'] = 'display_data';\n",
              "          await google.colab.output.renderOutput(dataTable, element);\n",
              "          const docLink = document.createElement('div');\n",
              "          docLink.innerHTML = docLinkHtml;\n",
              "          element.appendChild(docLink);\n",
              "        }\n",
              "      </script>\n",
              "    </div>\n",
              "  </div>\n",
              "  "
            ]
          },
          "metadata": {},
          "execution_count": 26
        }
      ],
      "source": [
        "# recommendation score dataframe\n",
        "scores_df"
      ]
    },
    {
      "cell_type": "markdown",
      "metadata": {
        "id": "-RnhSnn02Jfj"
      },
      "source": [
        "From the score results, we can see that:\n",
        "\n",
        "*   For user0, the recommended courses are `Python 101` and `Machine Learning with R` because user0 is very interested in Python and machine learning\n",
        "*   For user1, the recommended courses are `Python 101` and `Database 101` because user1 seems very interested in topics like Python and database\n"
      ]
    },
    {
      "cell_type": "markdown",
      "metadata": {
        "id": "I0XazMwq2Jfl"
      },
      "source": [
        "### TASK: Generate course recommendations based on user profile and course genre vectors\n"
      ]
    },
    {
      "cell_type": "markdown",
      "metadata": {
        "id": "jUivRk6j2Jfl"
      },
      "source": [
        "By now you have learned how to calculate recommendation scores using a user profile vector and a course genre vector.  Now, let's work on some real-world datasets to generate real personalized courses recommendations.\n"
      ]
    },
    {
      "cell_type": "markdown",
      "metadata": {
        "id": "8FUfryPP2Jfm"
      },
      "source": [
        "First, we will load a user's profile dataframe and a course genre dataframe:\n"
      ]
    },
    {
      "cell_type": "code",
      "execution_count": null,
      "metadata": {
        "id": "XDt15d632Jfm"
      },
      "outputs": [],
      "source": [
        "course_genre_url = \"https://cf-courses-data.s3.us.cloud-object-storage.appdomain.cloud/IBM-ML321EN-SkillsNetwork/labs/datasets/course_genre.csv\"\n",
        "course_genres_df = pd.read_csv(course_genre_url)"
      ]
    },
    {
      "cell_type": "code",
      "execution_count": null,
      "metadata": {
        "colab": {
          "base_uri": "https://localhost:8080/",
          "height": 530
        },
        "id": "Bd5lUJQH2Jfm",
        "outputId": "80b6b3eb-bd00-41a4-8946-954d0f30e0c3"
      },
      "outputs": [
        {
          "output_type": "execute_result",
          "data": {
            "text/plain": [
              "    COURSE_ID                                              TITLE  Database  \\\n",
              "0    ML0201EN  robots are coming  build iot apps with watson ...         0   \n",
              "1    ML0122EN                accelerating deep learning with gpu         0   \n",
              "2  GPXX0ZG0EN  consuming restful services using the reactive ...         0   \n",
              "3    RP0105EN         analyzing big data in r using apache spark         1   \n",
              "4  GPXX0Z2PEN  containerizing  packaging  and running a sprin...         0   \n",
              "\n",
              "   Python  CloudComputing  DataAnalysis  Containers  MachineLearning  \\\n",
              "0       0               0             0           0                0   \n",
              "1       1               0             0           0                1   \n",
              "2       0               0             0           0                0   \n",
              "3       0               0             1           0                0   \n",
              "4       0               0             0           1                0   \n",
              "\n",
              "   ComputerVision  DataScience  BigData  Chatbot  R  BackendDev  FrontendDev  \\\n",
              "0               0            0        0        0  0           1            1   \n",
              "1               0            1        0        0  0           0            0   \n",
              "2               0            0        0        0  0           1            1   \n",
              "3               0            0        1        0  1           0            0   \n",
              "4               0            0        0        0  0           1            0   \n",
              "\n",
              "   Blockchain  \n",
              "0           0  \n",
              "1           0  \n",
              "2           0  \n",
              "3           0  \n",
              "4           0  "
            ],
            "text/html": [
              "\n",
              "  <div id=\"df-f1379252-c36f-43b8-b7d2-e183420c0394\">\n",
              "    <div class=\"colab-df-container\">\n",
              "      <div>\n",
              "<style scoped>\n",
              "    .dataframe tbody tr th:only-of-type {\n",
              "        vertical-align: middle;\n",
              "    }\n",
              "\n",
              "    .dataframe tbody tr th {\n",
              "        vertical-align: top;\n",
              "    }\n",
              "\n",
              "    .dataframe thead th {\n",
              "        text-align: right;\n",
              "    }\n",
              "</style>\n",
              "<table border=\"1\" class=\"dataframe\">\n",
              "  <thead>\n",
              "    <tr style=\"text-align: right;\">\n",
              "      <th></th>\n",
              "      <th>COURSE_ID</th>\n",
              "      <th>TITLE</th>\n",
              "      <th>Database</th>\n",
              "      <th>Python</th>\n",
              "      <th>CloudComputing</th>\n",
              "      <th>DataAnalysis</th>\n",
              "      <th>Containers</th>\n",
              "      <th>MachineLearning</th>\n",
              "      <th>ComputerVision</th>\n",
              "      <th>DataScience</th>\n",
              "      <th>BigData</th>\n",
              "      <th>Chatbot</th>\n",
              "      <th>R</th>\n",
              "      <th>BackendDev</th>\n",
              "      <th>FrontendDev</th>\n",
              "      <th>Blockchain</th>\n",
              "    </tr>\n",
              "  </thead>\n",
              "  <tbody>\n",
              "    <tr>\n",
              "      <th>0</th>\n",
              "      <td>ML0201EN</td>\n",
              "      <td>robots are coming  build iot apps with watson ...</td>\n",
              "      <td>0</td>\n",
              "      <td>0</td>\n",
              "      <td>0</td>\n",
              "      <td>0</td>\n",
              "      <td>0</td>\n",
              "      <td>0</td>\n",
              "      <td>0</td>\n",
              "      <td>0</td>\n",
              "      <td>0</td>\n",
              "      <td>0</td>\n",
              "      <td>0</td>\n",
              "      <td>1</td>\n",
              "      <td>1</td>\n",
              "      <td>0</td>\n",
              "    </tr>\n",
              "    <tr>\n",
              "      <th>1</th>\n",
              "      <td>ML0122EN</td>\n",
              "      <td>accelerating deep learning with gpu</td>\n",
              "      <td>0</td>\n",
              "      <td>1</td>\n",
              "      <td>0</td>\n",
              "      <td>0</td>\n",
              "      <td>0</td>\n",
              "      <td>1</td>\n",
              "      <td>0</td>\n",
              "      <td>1</td>\n",
              "      <td>0</td>\n",
              "      <td>0</td>\n",
              "      <td>0</td>\n",
              "      <td>0</td>\n",
              "      <td>0</td>\n",
              "      <td>0</td>\n",
              "    </tr>\n",
              "    <tr>\n",
              "      <th>2</th>\n",
              "      <td>GPXX0ZG0EN</td>\n",
              "      <td>consuming restful services using the reactive ...</td>\n",
              "      <td>0</td>\n",
              "      <td>0</td>\n",
              "      <td>0</td>\n",
              "      <td>0</td>\n",
              "      <td>0</td>\n",
              "      <td>0</td>\n",
              "      <td>0</td>\n",
              "      <td>0</td>\n",
              "      <td>0</td>\n",
              "      <td>0</td>\n",
              "      <td>0</td>\n",
              "      <td>1</td>\n",
              "      <td>1</td>\n",
              "      <td>0</td>\n",
              "    </tr>\n",
              "    <tr>\n",
              "      <th>3</th>\n",
              "      <td>RP0105EN</td>\n",
              "      <td>analyzing big data in r using apache spark</td>\n",
              "      <td>1</td>\n",
              "      <td>0</td>\n",
              "      <td>0</td>\n",
              "      <td>1</td>\n",
              "      <td>0</td>\n",
              "      <td>0</td>\n",
              "      <td>0</td>\n",
              "      <td>0</td>\n",
              "      <td>1</td>\n",
              "      <td>0</td>\n",
              "      <td>1</td>\n",
              "      <td>0</td>\n",
              "      <td>0</td>\n",
              "      <td>0</td>\n",
              "    </tr>\n",
              "    <tr>\n",
              "      <th>4</th>\n",
              "      <td>GPXX0Z2PEN</td>\n",
              "      <td>containerizing  packaging  and running a sprin...</td>\n",
              "      <td>0</td>\n",
              "      <td>0</td>\n",
              "      <td>0</td>\n",
              "      <td>0</td>\n",
              "      <td>1</td>\n",
              "      <td>0</td>\n",
              "      <td>0</td>\n",
              "      <td>0</td>\n",
              "      <td>0</td>\n",
              "      <td>0</td>\n",
              "      <td>0</td>\n",
              "      <td>1</td>\n",
              "      <td>0</td>\n",
              "      <td>0</td>\n",
              "    </tr>\n",
              "  </tbody>\n",
              "</table>\n",
              "</div>\n",
              "      <button class=\"colab-df-convert\" onclick=\"convertToInteractive('df-f1379252-c36f-43b8-b7d2-e183420c0394')\"\n",
              "              title=\"Convert this dataframe to an interactive table.\"\n",
              "              style=\"display:none;\">\n",
              "        \n",
              "  <svg xmlns=\"http://www.w3.org/2000/svg\" height=\"24px\"viewBox=\"0 0 24 24\"\n",
              "       width=\"24px\">\n",
              "    <path d=\"M0 0h24v24H0V0z\" fill=\"none\"/>\n",
              "    <path d=\"M18.56 5.44l.94 2.06.94-2.06 2.06-.94-2.06-.94-.94-2.06-.94 2.06-2.06.94zm-11 1L8.5 8.5l.94-2.06 2.06-.94-2.06-.94L8.5 2.5l-.94 2.06-2.06.94zm10 10l.94 2.06.94-2.06 2.06-.94-2.06-.94-.94-2.06-.94 2.06-2.06.94z\"/><path d=\"M17.41 7.96l-1.37-1.37c-.4-.4-.92-.59-1.43-.59-.52 0-1.04.2-1.43.59L10.3 9.45l-7.72 7.72c-.78.78-.78 2.05 0 2.83L4 21.41c.39.39.9.59 1.41.59.51 0 1.02-.2 1.41-.59l7.78-7.78 2.81-2.81c.8-.78.8-2.07 0-2.86zM5.41 20L4 18.59l7.72-7.72 1.47 1.35L5.41 20z\"/>\n",
              "  </svg>\n",
              "      </button>\n",
              "      \n",
              "  <style>\n",
              "    .colab-df-container {\n",
              "      display:flex;\n",
              "      flex-wrap:wrap;\n",
              "      gap: 12px;\n",
              "    }\n",
              "\n",
              "    .colab-df-convert {\n",
              "      background-color: #E8F0FE;\n",
              "      border: none;\n",
              "      border-radius: 50%;\n",
              "      cursor: pointer;\n",
              "      display: none;\n",
              "      fill: #1967D2;\n",
              "      height: 32px;\n",
              "      padding: 0 0 0 0;\n",
              "      width: 32px;\n",
              "    }\n",
              "\n",
              "    .colab-df-convert:hover {\n",
              "      background-color: #E2EBFA;\n",
              "      box-shadow: 0px 1px 2px rgba(60, 64, 67, 0.3), 0px 1px 3px 1px rgba(60, 64, 67, 0.15);\n",
              "      fill: #174EA6;\n",
              "    }\n",
              "\n",
              "    [theme=dark] .colab-df-convert {\n",
              "      background-color: #3B4455;\n",
              "      fill: #D2E3FC;\n",
              "    }\n",
              "\n",
              "    [theme=dark] .colab-df-convert:hover {\n",
              "      background-color: #434B5C;\n",
              "      box-shadow: 0px 1px 3px 1px rgba(0, 0, 0, 0.15);\n",
              "      filter: drop-shadow(0px 1px 2px rgba(0, 0, 0, 0.3));\n",
              "      fill: #FFFFFF;\n",
              "    }\n",
              "  </style>\n",
              "\n",
              "      <script>\n",
              "        const buttonEl =\n",
              "          document.querySelector('#df-f1379252-c36f-43b8-b7d2-e183420c0394 button.colab-df-convert');\n",
              "        buttonEl.style.display =\n",
              "          google.colab.kernel.accessAllowed ? 'block' : 'none';\n",
              "\n",
              "        async function convertToInteractive(key) {\n",
              "          const element = document.querySelector('#df-f1379252-c36f-43b8-b7d2-e183420c0394');\n",
              "          const dataTable =\n",
              "            await google.colab.kernel.invokeFunction('convertToInteractive',\n",
              "                                                     [key], {});\n",
              "          if (!dataTable) return;\n",
              "\n",
              "          const docLinkHtml = 'Like what you see? Visit the ' +\n",
              "            '<a target=\"_blank\" href=https://colab.research.google.com/notebooks/data_table.ipynb>data table notebook</a>'\n",
              "            + ' to learn more about interactive tables.';\n",
              "          element.innerHTML = '';\n",
              "          dataTable['output_type'] = 'display_data';\n",
              "          await google.colab.output.renderOutput(dataTable, element);\n",
              "          const docLink = document.createElement('div');\n",
              "          docLink.innerHTML = docLinkHtml;\n",
              "          element.appendChild(docLink);\n",
              "        }\n",
              "      </script>\n",
              "    </div>\n",
              "  </div>\n",
              "  "
            ]
          },
          "metadata": {},
          "execution_count": 28
        }
      ],
      "source": [
        "course_genres_df.head()"
      ]
    },
    {
      "cell_type": "code",
      "execution_count": null,
      "metadata": {
        "id": "hvFgOZUu2Jfn"
      },
      "outputs": [],
      "source": [
        "profile_genre_url = \"https://cf-courses-data.s3.us.cloud-object-storage.appdomain.cloud/IBM-ML321EN-SkillsNetwork/labs/datasets/user_profile.csv\"\n",
        "profile_df = pd.read_csv(profile_genre_url)"
      ]
    },
    {
      "cell_type": "code",
      "execution_count": null,
      "metadata": {
        "colab": {
          "base_uri": "https://localhost:8080/",
          "height": 270
        },
        "id": "8hsRJP3Q2Jfn",
        "outputId": "9afd11c4-a51a-4c5e-8632-21d0207bd35b"
      },
      "outputs": [
        {
          "output_type": "execute_result",
          "data": {
            "text/plain": [
              "   user  Database  Python  CloudComputing  DataAnalysis  Containers  \\\n",
              "0     2      52.0    14.0             6.0          43.0         3.0   \n",
              "1     4      40.0     2.0             4.0          28.0         0.0   \n",
              "2     5      24.0     8.0            18.0          24.0         0.0   \n",
              "3     7       2.0     0.0             0.0           2.0         0.0   \n",
              "4     8       6.0     0.0             0.0           4.0         0.0   \n",
              "\n",
              "   MachineLearning  ComputerVision  DataScience  BigData  Chatbot     R  \\\n",
              "0             33.0             0.0         29.0     41.0      2.0  18.0   \n",
              "1             14.0             0.0         20.0     24.0      0.0   6.0   \n",
              "2             30.0             0.0         22.0     14.0      2.0  14.0   \n",
              "3              0.0             0.0          0.0      2.0      0.0   0.0   \n",
              "4              0.0             0.0          0.0      6.0      0.0   2.0   \n",
              "\n",
              "   BackendDev  FrontendDev  Blockchain  \n",
              "0        34.0          9.0         6.0  \n",
              "1         6.0          0.0         2.0  \n",
              "2        26.0          4.0         6.0  \n",
              "3         0.0          0.0         0.0  \n",
              "4         0.0          0.0         0.0  "
            ],
            "text/html": [
              "\n",
              "  <div id=\"df-a3d4d54d-2718-44d2-9671-8ed20d1ea74b\">\n",
              "    <div class=\"colab-df-container\">\n",
              "      <div>\n",
              "<style scoped>\n",
              "    .dataframe tbody tr th:only-of-type {\n",
              "        vertical-align: middle;\n",
              "    }\n",
              "\n",
              "    .dataframe tbody tr th {\n",
              "        vertical-align: top;\n",
              "    }\n",
              "\n",
              "    .dataframe thead th {\n",
              "        text-align: right;\n",
              "    }\n",
              "</style>\n",
              "<table border=\"1\" class=\"dataframe\">\n",
              "  <thead>\n",
              "    <tr style=\"text-align: right;\">\n",
              "      <th></th>\n",
              "      <th>user</th>\n",
              "      <th>Database</th>\n",
              "      <th>Python</th>\n",
              "      <th>CloudComputing</th>\n",
              "      <th>DataAnalysis</th>\n",
              "      <th>Containers</th>\n",
              "      <th>MachineLearning</th>\n",
              "      <th>ComputerVision</th>\n",
              "      <th>DataScience</th>\n",
              "      <th>BigData</th>\n",
              "      <th>Chatbot</th>\n",
              "      <th>R</th>\n",
              "      <th>BackendDev</th>\n",
              "      <th>FrontendDev</th>\n",
              "      <th>Blockchain</th>\n",
              "    </tr>\n",
              "  </thead>\n",
              "  <tbody>\n",
              "    <tr>\n",
              "      <th>0</th>\n",
              "      <td>2</td>\n",
              "      <td>52.0</td>\n",
              "      <td>14.0</td>\n",
              "      <td>6.0</td>\n",
              "      <td>43.0</td>\n",
              "      <td>3.0</td>\n",
              "      <td>33.0</td>\n",
              "      <td>0.0</td>\n",
              "      <td>29.0</td>\n",
              "      <td>41.0</td>\n",
              "      <td>2.0</td>\n",
              "      <td>18.0</td>\n",
              "      <td>34.0</td>\n",
              "      <td>9.0</td>\n",
              "      <td>6.0</td>\n",
              "    </tr>\n",
              "    <tr>\n",
              "      <th>1</th>\n",
              "      <td>4</td>\n",
              "      <td>40.0</td>\n",
              "      <td>2.0</td>\n",
              "      <td>4.0</td>\n",
              "      <td>28.0</td>\n",
              "      <td>0.0</td>\n",
              "      <td>14.0</td>\n",
              "      <td>0.0</td>\n",
              "      <td>20.0</td>\n",
              "      <td>24.0</td>\n",
              "      <td>0.0</td>\n",
              "      <td>6.0</td>\n",
              "      <td>6.0</td>\n",
              "      <td>0.0</td>\n",
              "      <td>2.0</td>\n",
              "    </tr>\n",
              "    <tr>\n",
              "      <th>2</th>\n",
              "      <td>5</td>\n",
              "      <td>24.0</td>\n",
              "      <td>8.0</td>\n",
              "      <td>18.0</td>\n",
              "      <td>24.0</td>\n",
              "      <td>0.0</td>\n",
              "      <td>30.0</td>\n",
              "      <td>0.0</td>\n",
              "      <td>22.0</td>\n",
              "      <td>14.0</td>\n",
              "      <td>2.0</td>\n",
              "      <td>14.0</td>\n",
              "      <td>26.0</td>\n",
              "      <td>4.0</td>\n",
              "      <td>6.0</td>\n",
              "    </tr>\n",
              "    <tr>\n",
              "      <th>3</th>\n",
              "      <td>7</td>\n",
              "      <td>2.0</td>\n",
              "      <td>0.0</td>\n",
              "      <td>0.0</td>\n",
              "      <td>2.0</td>\n",
              "      <td>0.0</td>\n",
              "      <td>0.0</td>\n",
              "      <td>0.0</td>\n",
              "      <td>0.0</td>\n",
              "      <td>2.0</td>\n",
              "      <td>0.0</td>\n",
              "      <td>0.0</td>\n",
              "      <td>0.0</td>\n",
              "      <td>0.0</td>\n",
              "      <td>0.0</td>\n",
              "    </tr>\n",
              "    <tr>\n",
              "      <th>4</th>\n",
              "      <td>8</td>\n",
              "      <td>6.0</td>\n",
              "      <td>0.0</td>\n",
              "      <td>0.0</td>\n",
              "      <td>4.0</td>\n",
              "      <td>0.0</td>\n",
              "      <td>0.0</td>\n",
              "      <td>0.0</td>\n",
              "      <td>0.0</td>\n",
              "      <td>6.0</td>\n",
              "      <td>0.0</td>\n",
              "      <td>2.0</td>\n",
              "      <td>0.0</td>\n",
              "      <td>0.0</td>\n",
              "      <td>0.0</td>\n",
              "    </tr>\n",
              "  </tbody>\n",
              "</table>\n",
              "</div>\n",
              "      <button class=\"colab-df-convert\" onclick=\"convertToInteractive('df-a3d4d54d-2718-44d2-9671-8ed20d1ea74b')\"\n",
              "              title=\"Convert this dataframe to an interactive table.\"\n",
              "              style=\"display:none;\">\n",
              "        \n",
              "  <svg xmlns=\"http://www.w3.org/2000/svg\" height=\"24px\"viewBox=\"0 0 24 24\"\n",
              "       width=\"24px\">\n",
              "    <path d=\"M0 0h24v24H0V0z\" fill=\"none\"/>\n",
              "    <path d=\"M18.56 5.44l.94 2.06.94-2.06 2.06-.94-2.06-.94-.94-2.06-.94 2.06-2.06.94zm-11 1L8.5 8.5l.94-2.06 2.06-.94-2.06-.94L8.5 2.5l-.94 2.06-2.06.94zm10 10l.94 2.06.94-2.06 2.06-.94-2.06-.94-.94-2.06-.94 2.06-2.06.94z\"/><path d=\"M17.41 7.96l-1.37-1.37c-.4-.4-.92-.59-1.43-.59-.52 0-1.04.2-1.43.59L10.3 9.45l-7.72 7.72c-.78.78-.78 2.05 0 2.83L4 21.41c.39.39.9.59 1.41.59.51 0 1.02-.2 1.41-.59l7.78-7.78 2.81-2.81c.8-.78.8-2.07 0-2.86zM5.41 20L4 18.59l7.72-7.72 1.47 1.35L5.41 20z\"/>\n",
              "  </svg>\n",
              "      </button>\n",
              "      \n",
              "  <style>\n",
              "    .colab-df-container {\n",
              "      display:flex;\n",
              "      flex-wrap:wrap;\n",
              "      gap: 12px;\n",
              "    }\n",
              "\n",
              "    .colab-df-convert {\n",
              "      background-color: #E8F0FE;\n",
              "      border: none;\n",
              "      border-radius: 50%;\n",
              "      cursor: pointer;\n",
              "      display: none;\n",
              "      fill: #1967D2;\n",
              "      height: 32px;\n",
              "      padding: 0 0 0 0;\n",
              "      width: 32px;\n",
              "    }\n",
              "\n",
              "    .colab-df-convert:hover {\n",
              "      background-color: #E2EBFA;\n",
              "      box-shadow: 0px 1px 2px rgba(60, 64, 67, 0.3), 0px 1px 3px 1px rgba(60, 64, 67, 0.15);\n",
              "      fill: #174EA6;\n",
              "    }\n",
              "\n",
              "    [theme=dark] .colab-df-convert {\n",
              "      background-color: #3B4455;\n",
              "      fill: #D2E3FC;\n",
              "    }\n",
              "\n",
              "    [theme=dark] .colab-df-convert:hover {\n",
              "      background-color: #434B5C;\n",
              "      box-shadow: 0px 1px 3px 1px rgba(0, 0, 0, 0.15);\n",
              "      filter: drop-shadow(0px 1px 2px rgba(0, 0, 0, 0.3));\n",
              "      fill: #FFFFFF;\n",
              "    }\n",
              "  </style>\n",
              "\n",
              "      <script>\n",
              "        const buttonEl =\n",
              "          document.querySelector('#df-a3d4d54d-2718-44d2-9671-8ed20d1ea74b button.colab-df-convert');\n",
              "        buttonEl.style.display =\n",
              "          google.colab.kernel.accessAllowed ? 'block' : 'none';\n",
              "\n",
              "        async function convertToInteractive(key) {\n",
              "          const element = document.querySelector('#df-a3d4d54d-2718-44d2-9671-8ed20d1ea74b');\n",
              "          const dataTable =\n",
              "            await google.colab.kernel.invokeFunction('convertToInteractive',\n",
              "                                                     [key], {});\n",
              "          if (!dataTable) return;\n",
              "\n",
              "          const docLinkHtml = 'Like what you see? Visit the ' +\n",
              "            '<a target=\"_blank\" href=https://colab.research.google.com/notebooks/data_table.ipynb>data table notebook</a>'\n",
              "            + ' to learn more about interactive tables.';\n",
              "          element.innerHTML = '';\n",
              "          dataTable['output_type'] = 'display_data';\n",
              "          await google.colab.output.renderOutput(dataTable, element);\n",
              "          const docLink = document.createElement('div');\n",
              "          docLink.innerHTML = docLinkHtml;\n",
              "          element.appendChild(docLink);\n",
              "        }\n",
              "      </script>\n",
              "    </div>\n",
              "  </div>\n",
              "  "
            ]
          },
          "metadata": {},
          "execution_count": 30
        }
      ],
      "source": [
        "profile_df.head()"
      ]
    },
    {
      "cell_type": "markdown",
      "metadata": {
        "id": "k1Wp--TY2Jfp"
      },
      "source": [
        "The profile dataframe contains the course interests for each user, for example, user 8 is very interested in R, data analysis, database, and big data:\n"
      ]
    },
    {
      "cell_type": "code",
      "execution_count": null,
      "metadata": {
        "colab": {
          "base_uri": "https://localhost:8080/",
          "height": 145
        },
        "id": "yBJtbYQX2Jfq",
        "outputId": "3761990c-358e-4be6-b215-068af362d324"
      },
      "outputs": [
        {
          "output_type": "execute_result",
          "data": {
            "text/plain": [
              "   user  Database  Python  CloudComputing  DataAnalysis  Containers  \\\n",
              "4     8       6.0     0.0             0.0           4.0         0.0   \n",
              "\n",
              "   MachineLearning  ComputerVision  DataScience  BigData  Chatbot    R  \\\n",
              "4              0.0             0.0          0.0      6.0      0.0  2.0   \n",
              "\n",
              "   BackendDev  FrontendDev  Blockchain  \n",
              "4         0.0          0.0         0.0  "
            ],
            "text/html": [
              "\n",
              "  <div id=\"df-217b87e1-a2de-48be-a9d6-2b7c070be234\">\n",
              "    <div class=\"colab-df-container\">\n",
              "      <div>\n",
              "<style scoped>\n",
              "    .dataframe tbody tr th:only-of-type {\n",
              "        vertical-align: middle;\n",
              "    }\n",
              "\n",
              "    .dataframe tbody tr th {\n",
              "        vertical-align: top;\n",
              "    }\n",
              "\n",
              "    .dataframe thead th {\n",
              "        text-align: right;\n",
              "    }\n",
              "</style>\n",
              "<table border=\"1\" class=\"dataframe\">\n",
              "  <thead>\n",
              "    <tr style=\"text-align: right;\">\n",
              "      <th></th>\n",
              "      <th>user</th>\n",
              "      <th>Database</th>\n",
              "      <th>Python</th>\n",
              "      <th>CloudComputing</th>\n",
              "      <th>DataAnalysis</th>\n",
              "      <th>Containers</th>\n",
              "      <th>MachineLearning</th>\n",
              "      <th>ComputerVision</th>\n",
              "      <th>DataScience</th>\n",
              "      <th>BigData</th>\n",
              "      <th>Chatbot</th>\n",
              "      <th>R</th>\n",
              "      <th>BackendDev</th>\n",
              "      <th>FrontendDev</th>\n",
              "      <th>Blockchain</th>\n",
              "    </tr>\n",
              "  </thead>\n",
              "  <tbody>\n",
              "    <tr>\n",
              "      <th>4</th>\n",
              "      <td>8</td>\n",
              "      <td>6.0</td>\n",
              "      <td>0.0</td>\n",
              "      <td>0.0</td>\n",
              "      <td>4.0</td>\n",
              "      <td>0.0</td>\n",
              "      <td>0.0</td>\n",
              "      <td>0.0</td>\n",
              "      <td>0.0</td>\n",
              "      <td>6.0</td>\n",
              "      <td>0.0</td>\n",
              "      <td>2.0</td>\n",
              "      <td>0.0</td>\n",
              "      <td>0.0</td>\n",
              "      <td>0.0</td>\n",
              "    </tr>\n",
              "  </tbody>\n",
              "</table>\n",
              "</div>\n",
              "      <button class=\"colab-df-convert\" onclick=\"convertToInteractive('df-217b87e1-a2de-48be-a9d6-2b7c070be234')\"\n",
              "              title=\"Convert this dataframe to an interactive table.\"\n",
              "              style=\"display:none;\">\n",
              "        \n",
              "  <svg xmlns=\"http://www.w3.org/2000/svg\" height=\"24px\"viewBox=\"0 0 24 24\"\n",
              "       width=\"24px\">\n",
              "    <path d=\"M0 0h24v24H0V0z\" fill=\"none\"/>\n",
              "    <path d=\"M18.56 5.44l.94 2.06.94-2.06 2.06-.94-2.06-.94-.94-2.06-.94 2.06-2.06.94zm-11 1L8.5 8.5l.94-2.06 2.06-.94-2.06-.94L8.5 2.5l-.94 2.06-2.06.94zm10 10l.94 2.06.94-2.06 2.06-.94-2.06-.94-.94-2.06-.94 2.06-2.06.94z\"/><path d=\"M17.41 7.96l-1.37-1.37c-.4-.4-.92-.59-1.43-.59-.52 0-1.04.2-1.43.59L10.3 9.45l-7.72 7.72c-.78.78-.78 2.05 0 2.83L4 21.41c.39.39.9.59 1.41.59.51 0 1.02-.2 1.41-.59l7.78-7.78 2.81-2.81c.8-.78.8-2.07 0-2.86zM5.41 20L4 18.59l7.72-7.72 1.47 1.35L5.41 20z\"/>\n",
              "  </svg>\n",
              "      </button>\n",
              "      \n",
              "  <style>\n",
              "    .colab-df-container {\n",
              "      display:flex;\n",
              "      flex-wrap:wrap;\n",
              "      gap: 12px;\n",
              "    }\n",
              "\n",
              "    .colab-df-convert {\n",
              "      background-color: #E8F0FE;\n",
              "      border: none;\n",
              "      border-radius: 50%;\n",
              "      cursor: pointer;\n",
              "      display: none;\n",
              "      fill: #1967D2;\n",
              "      height: 32px;\n",
              "      padding: 0 0 0 0;\n",
              "      width: 32px;\n",
              "    }\n",
              "\n",
              "    .colab-df-convert:hover {\n",
              "      background-color: #E2EBFA;\n",
              "      box-shadow: 0px 1px 2px rgba(60, 64, 67, 0.3), 0px 1px 3px 1px rgba(60, 64, 67, 0.15);\n",
              "      fill: #174EA6;\n",
              "    }\n",
              "\n",
              "    [theme=dark] .colab-df-convert {\n",
              "      background-color: #3B4455;\n",
              "      fill: #D2E3FC;\n",
              "    }\n",
              "\n",
              "    [theme=dark] .colab-df-convert:hover {\n",
              "      background-color: #434B5C;\n",
              "      box-shadow: 0px 1px 3px 1px rgba(0, 0, 0, 0.15);\n",
              "      filter: drop-shadow(0px 1px 2px rgba(0, 0, 0, 0.3));\n",
              "      fill: #FFFFFF;\n",
              "    }\n",
              "  </style>\n",
              "\n",
              "      <script>\n",
              "        const buttonEl =\n",
              "          document.querySelector('#df-217b87e1-a2de-48be-a9d6-2b7c070be234 button.colab-df-convert');\n",
              "        buttonEl.style.display =\n",
              "          google.colab.kernel.accessAllowed ? 'block' : 'none';\n",
              "\n",
              "        async function convertToInteractive(key) {\n",
              "          const element = document.querySelector('#df-217b87e1-a2de-48be-a9d6-2b7c070be234');\n",
              "          const dataTable =\n",
              "            await google.colab.kernel.invokeFunction('convertToInteractive',\n",
              "                                                     [key], {});\n",
              "          if (!dataTable) return;\n",
              "\n",
              "          const docLinkHtml = 'Like what you see? Visit the ' +\n",
              "            '<a target=\"_blank\" href=https://colab.research.google.com/notebooks/data_table.ipynb>data table notebook</a>'\n",
              "            + ' to learn more about interactive tables.';\n",
              "          element.innerHTML = '';\n",
              "          dataTable['output_type'] = 'display_data';\n",
              "          await google.colab.output.renderOutput(dataTable, element);\n",
              "          const docLink = document.createElement('div');\n",
              "          docLink.innerHTML = docLinkHtml;\n",
              "          element.appendChild(docLink);\n",
              "        }\n",
              "      </script>\n",
              "    </div>\n",
              "  </div>\n",
              "  "
            ]
          },
          "metadata": {},
          "execution_count": 31
        }
      ],
      "source": [
        "profile_df[profile_df['user'] == 8]"
      ]
    },
    {
      "cell_type": "markdown",
      "metadata": {
        "id": "BQwv-7iu2Jfq"
      },
      "source": [
        "Next, let's load a test dataset, containing test users to whom we want to make course recommendations:\n"
      ]
    },
    {
      "cell_type": "code",
      "execution_count": null,
      "metadata": {
        "id": "rpmXRuTh2Jfr"
      },
      "outputs": [],
      "source": [
        "test_users_url = \"https://cf-courses-data.s3.us.cloud-object-storage.appdomain.cloud/IBM-ML321EN-SkillsNetwork/labs/datasets/rs_content_test.csv\"\n",
        "test_users_df = pd.read_csv(test_users_url)"
      ]
    },
    {
      "cell_type": "code",
      "execution_count": null,
      "metadata": {
        "colab": {
          "base_uri": "https://localhost:8080/",
          "height": 206
        },
        "id": "kS8fXhH42Jfr",
        "outputId": "c6cf2ce8-53f0-40f2-fdd0-f67a08f5a341"
      },
      "outputs": [
        {
          "output_type": "execute_result",
          "data": {
            "text/plain": [
              "      user      item  rating\n",
              "0  1502801  RP0105EN     3.0\n",
              "1  1609720  CNSC02EN     2.0\n",
              "2  1347188  CO0301EN     3.0\n",
              "3   755067  ML0103EN     3.0\n",
              "4   538595  BD0115EN     3.0"
            ],
            "text/html": [
              "\n",
              "  <div id=\"df-d879a614-e4c8-4af2-b734-aa7555c2a52b\">\n",
              "    <div class=\"colab-df-container\">\n",
              "      <div>\n",
              "<style scoped>\n",
              "    .dataframe tbody tr th:only-of-type {\n",
              "        vertical-align: middle;\n",
              "    }\n",
              "\n",
              "    .dataframe tbody tr th {\n",
              "        vertical-align: top;\n",
              "    }\n",
              "\n",
              "    .dataframe thead th {\n",
              "        text-align: right;\n",
              "    }\n",
              "</style>\n",
              "<table border=\"1\" class=\"dataframe\">\n",
              "  <thead>\n",
              "    <tr style=\"text-align: right;\">\n",
              "      <th></th>\n",
              "      <th>user</th>\n",
              "      <th>item</th>\n",
              "      <th>rating</th>\n",
              "    </tr>\n",
              "  </thead>\n",
              "  <tbody>\n",
              "    <tr>\n",
              "      <th>0</th>\n",
              "      <td>1502801</td>\n",
              "      <td>RP0105EN</td>\n",
              "      <td>3.0</td>\n",
              "    </tr>\n",
              "    <tr>\n",
              "      <th>1</th>\n",
              "      <td>1609720</td>\n",
              "      <td>CNSC02EN</td>\n",
              "      <td>2.0</td>\n",
              "    </tr>\n",
              "    <tr>\n",
              "      <th>2</th>\n",
              "      <td>1347188</td>\n",
              "      <td>CO0301EN</td>\n",
              "      <td>3.0</td>\n",
              "    </tr>\n",
              "    <tr>\n",
              "      <th>3</th>\n",
              "      <td>755067</td>\n",
              "      <td>ML0103EN</td>\n",
              "      <td>3.0</td>\n",
              "    </tr>\n",
              "    <tr>\n",
              "      <th>4</th>\n",
              "      <td>538595</td>\n",
              "      <td>BD0115EN</td>\n",
              "      <td>3.0</td>\n",
              "    </tr>\n",
              "  </tbody>\n",
              "</table>\n",
              "</div>\n",
              "      <button class=\"colab-df-convert\" onclick=\"convertToInteractive('df-d879a614-e4c8-4af2-b734-aa7555c2a52b')\"\n",
              "              title=\"Convert this dataframe to an interactive table.\"\n",
              "              style=\"display:none;\">\n",
              "        \n",
              "  <svg xmlns=\"http://www.w3.org/2000/svg\" height=\"24px\"viewBox=\"0 0 24 24\"\n",
              "       width=\"24px\">\n",
              "    <path d=\"M0 0h24v24H0V0z\" fill=\"none\"/>\n",
              "    <path d=\"M18.56 5.44l.94 2.06.94-2.06 2.06-.94-2.06-.94-.94-2.06-.94 2.06-2.06.94zm-11 1L8.5 8.5l.94-2.06 2.06-.94-2.06-.94L8.5 2.5l-.94 2.06-2.06.94zm10 10l.94 2.06.94-2.06 2.06-.94-2.06-.94-.94-2.06-.94 2.06-2.06.94z\"/><path d=\"M17.41 7.96l-1.37-1.37c-.4-.4-.92-.59-1.43-.59-.52 0-1.04.2-1.43.59L10.3 9.45l-7.72 7.72c-.78.78-.78 2.05 0 2.83L4 21.41c.39.39.9.59 1.41.59.51 0 1.02-.2 1.41-.59l7.78-7.78 2.81-2.81c.8-.78.8-2.07 0-2.86zM5.41 20L4 18.59l7.72-7.72 1.47 1.35L5.41 20z\"/>\n",
              "  </svg>\n",
              "      </button>\n",
              "      \n",
              "  <style>\n",
              "    .colab-df-container {\n",
              "      display:flex;\n",
              "      flex-wrap:wrap;\n",
              "      gap: 12px;\n",
              "    }\n",
              "\n",
              "    .colab-df-convert {\n",
              "      background-color: #E8F0FE;\n",
              "      border: none;\n",
              "      border-radius: 50%;\n",
              "      cursor: pointer;\n",
              "      display: none;\n",
              "      fill: #1967D2;\n",
              "      height: 32px;\n",
              "      padding: 0 0 0 0;\n",
              "      width: 32px;\n",
              "    }\n",
              "\n",
              "    .colab-df-convert:hover {\n",
              "      background-color: #E2EBFA;\n",
              "      box-shadow: 0px 1px 2px rgba(60, 64, 67, 0.3), 0px 1px 3px 1px rgba(60, 64, 67, 0.15);\n",
              "      fill: #174EA6;\n",
              "    }\n",
              "\n",
              "    [theme=dark] .colab-df-convert {\n",
              "      background-color: #3B4455;\n",
              "      fill: #D2E3FC;\n",
              "    }\n",
              "\n",
              "    [theme=dark] .colab-df-convert:hover {\n",
              "      background-color: #434B5C;\n",
              "      box-shadow: 0px 1px 3px 1px rgba(0, 0, 0, 0.15);\n",
              "      filter: drop-shadow(0px 1px 2px rgba(0, 0, 0, 0.3));\n",
              "      fill: #FFFFFF;\n",
              "    }\n",
              "  </style>\n",
              "\n",
              "      <script>\n",
              "        const buttonEl =\n",
              "          document.querySelector('#df-d879a614-e4c8-4af2-b734-aa7555c2a52b button.colab-df-convert');\n",
              "        buttonEl.style.display =\n",
              "          google.colab.kernel.accessAllowed ? 'block' : 'none';\n",
              "\n",
              "        async function convertToInteractive(key) {\n",
              "          const element = document.querySelector('#df-d879a614-e4c8-4af2-b734-aa7555c2a52b');\n",
              "          const dataTable =\n",
              "            await google.colab.kernel.invokeFunction('convertToInteractive',\n",
              "                                                     [key], {});\n",
              "          if (!dataTable) return;\n",
              "\n",
              "          const docLinkHtml = 'Like what you see? Visit the ' +\n",
              "            '<a target=\"_blank\" href=https://colab.research.google.com/notebooks/data_table.ipynb>data table notebook</a>'\n",
              "            + ' to learn more about interactive tables.';\n",
              "          element.innerHTML = '';\n",
              "          dataTable['output_type'] = 'display_data';\n",
              "          await google.colab.output.renderOutput(dataTable, element);\n",
              "          const docLink = document.createElement('div');\n",
              "          docLink.innerHTML = docLinkHtml;\n",
              "          element.appendChild(docLink);\n",
              "        }\n",
              "      </script>\n",
              "    </div>\n",
              "  </div>\n",
              "  "
            ]
          },
          "metadata": {},
          "execution_count": 33
        }
      ],
      "source": [
        "test_users_df.head()"
      ]
    },
    {
      "cell_type": "markdown",
      "metadata": {
        "id": "thaO-Ji92Jfr"
      },
      "source": [
        "Let's look at how many test users we have in the dataset.\n"
      ]
    },
    {
      "cell_type": "code",
      "execution_count": null,
      "metadata": {
        "colab": {
          "base_uri": "https://localhost:8080/"
        },
        "id": "ZyQXMCwQ2Jfr",
        "outputId": "fe02131e-0305-4ef3-de3a-872242bc702b"
      },
      "outputs": [
        {
          "output_type": "stream",
          "name": "stdout",
          "text": [
            "Total numbers of test users 1000\n"
          ]
        }
      ],
      "source": [
        "test_users = test_users_df.groupby(['user']).max().reset_index(drop=False)\n",
        "test_user_ids = test_users['user'].to_list()\n",
        "print(f\"Total numbers of test users {len(test_user_ids)}\")"
      ]
    },
    {
      "cell_type": "markdown",
      "metadata": {
        "id": "B6EhbCWz2Jfr"
      },
      "source": [
        "Then for each test user in the test dataset, you need to first find out which courses are unknown/unselected to them. For example, suppose we have a user `1078030` with profile:\n"
      ]
    },
    {
      "cell_type": "code",
      "execution_count": null,
      "metadata": {
        "colab": {
          "base_uri": "https://localhost:8080/",
          "height": 145
        },
        "id": "lPyxtO6s2Jfs",
        "outputId": "ece42c0e-1082-4363-abb5-308551db484f"
      },
      "outputs": [
        {
          "output_type": "execute_result",
          "data": {
            "text/plain": [
              "          user  Database  Python  CloudComputing  DataAnalysis  Containers  \\\n",
              "18204  1078030       0.0    12.0             0.0           9.0         0.0   \n",
              "\n",
              "       MachineLearning  ComputerVision  DataScience  BigData  Chatbot    R  \\\n",
              "18204             12.0             0.0          6.0      0.0      0.0  0.0   \n",
              "\n",
              "       BackendDev  FrontendDev  Blockchain  \n",
              "18204         0.0          0.0         0.0  "
            ],
            "text/html": [
              "\n",
              "  <div id=\"df-1de60e37-d37b-440d-b422-4ae9d8294410\">\n",
              "    <div class=\"colab-df-container\">\n",
              "      <div>\n",
              "<style scoped>\n",
              "    .dataframe tbody tr th:only-of-type {\n",
              "        vertical-align: middle;\n",
              "    }\n",
              "\n",
              "    .dataframe tbody tr th {\n",
              "        vertical-align: top;\n",
              "    }\n",
              "\n",
              "    .dataframe thead th {\n",
              "        text-align: right;\n",
              "    }\n",
              "</style>\n",
              "<table border=\"1\" class=\"dataframe\">\n",
              "  <thead>\n",
              "    <tr style=\"text-align: right;\">\n",
              "      <th></th>\n",
              "      <th>user</th>\n",
              "      <th>Database</th>\n",
              "      <th>Python</th>\n",
              "      <th>CloudComputing</th>\n",
              "      <th>DataAnalysis</th>\n",
              "      <th>Containers</th>\n",
              "      <th>MachineLearning</th>\n",
              "      <th>ComputerVision</th>\n",
              "      <th>DataScience</th>\n",
              "      <th>BigData</th>\n",
              "      <th>Chatbot</th>\n",
              "      <th>R</th>\n",
              "      <th>BackendDev</th>\n",
              "      <th>FrontendDev</th>\n",
              "      <th>Blockchain</th>\n",
              "    </tr>\n",
              "  </thead>\n",
              "  <tbody>\n",
              "    <tr>\n",
              "      <th>18204</th>\n",
              "      <td>1078030</td>\n",
              "      <td>0.0</td>\n",
              "      <td>12.0</td>\n",
              "      <td>0.0</td>\n",
              "      <td>9.0</td>\n",
              "      <td>0.0</td>\n",
              "      <td>12.0</td>\n",
              "      <td>0.0</td>\n",
              "      <td>6.0</td>\n",
              "      <td>0.0</td>\n",
              "      <td>0.0</td>\n",
              "      <td>0.0</td>\n",
              "      <td>0.0</td>\n",
              "      <td>0.0</td>\n",
              "      <td>0.0</td>\n",
              "    </tr>\n",
              "  </tbody>\n",
              "</table>\n",
              "</div>\n",
              "      <button class=\"colab-df-convert\" onclick=\"convertToInteractive('df-1de60e37-d37b-440d-b422-4ae9d8294410')\"\n",
              "              title=\"Convert this dataframe to an interactive table.\"\n",
              "              style=\"display:none;\">\n",
              "        \n",
              "  <svg xmlns=\"http://www.w3.org/2000/svg\" height=\"24px\"viewBox=\"0 0 24 24\"\n",
              "       width=\"24px\">\n",
              "    <path d=\"M0 0h24v24H0V0z\" fill=\"none\"/>\n",
              "    <path d=\"M18.56 5.44l.94 2.06.94-2.06 2.06-.94-2.06-.94-.94-2.06-.94 2.06-2.06.94zm-11 1L8.5 8.5l.94-2.06 2.06-.94-2.06-.94L8.5 2.5l-.94 2.06-2.06.94zm10 10l.94 2.06.94-2.06 2.06-.94-2.06-.94-.94-2.06-.94 2.06-2.06.94z\"/><path d=\"M17.41 7.96l-1.37-1.37c-.4-.4-.92-.59-1.43-.59-.52 0-1.04.2-1.43.59L10.3 9.45l-7.72 7.72c-.78.78-.78 2.05 0 2.83L4 21.41c.39.39.9.59 1.41.59.51 0 1.02-.2 1.41-.59l7.78-7.78 2.81-2.81c.8-.78.8-2.07 0-2.86zM5.41 20L4 18.59l7.72-7.72 1.47 1.35L5.41 20z\"/>\n",
              "  </svg>\n",
              "      </button>\n",
              "      \n",
              "  <style>\n",
              "    .colab-df-container {\n",
              "      display:flex;\n",
              "      flex-wrap:wrap;\n",
              "      gap: 12px;\n",
              "    }\n",
              "\n",
              "    .colab-df-convert {\n",
              "      background-color: #E8F0FE;\n",
              "      border: none;\n",
              "      border-radius: 50%;\n",
              "      cursor: pointer;\n",
              "      display: none;\n",
              "      fill: #1967D2;\n",
              "      height: 32px;\n",
              "      padding: 0 0 0 0;\n",
              "      width: 32px;\n",
              "    }\n",
              "\n",
              "    .colab-df-convert:hover {\n",
              "      background-color: #E2EBFA;\n",
              "      box-shadow: 0px 1px 2px rgba(60, 64, 67, 0.3), 0px 1px 3px 1px rgba(60, 64, 67, 0.15);\n",
              "      fill: #174EA6;\n",
              "    }\n",
              "\n",
              "    [theme=dark] .colab-df-convert {\n",
              "      background-color: #3B4455;\n",
              "      fill: #D2E3FC;\n",
              "    }\n",
              "\n",
              "    [theme=dark] .colab-df-convert:hover {\n",
              "      background-color: #434B5C;\n",
              "      box-shadow: 0px 1px 3px 1px rgba(0, 0, 0, 0.15);\n",
              "      filter: drop-shadow(0px 1px 2px rgba(0, 0, 0, 0.3));\n",
              "      fill: #FFFFFF;\n",
              "    }\n",
              "  </style>\n",
              "\n",
              "      <script>\n",
              "        const buttonEl =\n",
              "          document.querySelector('#df-1de60e37-d37b-440d-b422-4ae9d8294410 button.colab-df-convert');\n",
              "        buttonEl.style.display =\n",
              "          google.colab.kernel.accessAllowed ? 'block' : 'none';\n",
              "\n",
              "        async function convertToInteractive(key) {\n",
              "          const element = document.querySelector('#df-1de60e37-d37b-440d-b422-4ae9d8294410');\n",
              "          const dataTable =\n",
              "            await google.colab.kernel.invokeFunction('convertToInteractive',\n",
              "                                                     [key], {});\n",
              "          if (!dataTable) return;\n",
              "\n",
              "          const docLinkHtml = 'Like what you see? Visit the ' +\n",
              "            '<a target=\"_blank\" href=https://colab.research.google.com/notebooks/data_table.ipynb>data table notebook</a>'\n",
              "            + ' to learn more about interactive tables.';\n",
              "          element.innerHTML = '';\n",
              "          dataTable['output_type'] = 'display_data';\n",
              "          await google.colab.output.renderOutput(dataTable, element);\n",
              "          const docLink = document.createElement('div');\n",
              "          docLink.innerHTML = docLinkHtml;\n",
              "          element.appendChild(docLink);\n",
              "        }\n",
              "      </script>\n",
              "    </div>\n",
              "  </div>\n",
              "  "
            ]
          },
          "metadata": {},
          "execution_count": 35
        }
      ],
      "source": [
        "test_user_profile = profile_df[profile_df['user'] == 1078030]\n",
        "test_user_profile"
      ]
    },
    {
      "cell_type": "code",
      "execution_count": null,
      "metadata": {
        "colab": {
          "base_uri": "https://localhost:8080/"
        },
        "id": "SYtgFvdO2Jfs",
        "outputId": "b7238296-f85f-4eb4-fa91-a242aa0add3b"
      },
      "outputs": [
        {
          "output_type": "execute_result",
          "data": {
            "text/plain": [
              "array([ 0., 12.,  0.,  9.,  0., 12.,  0.,  6.,  0.,  0.,  0.,  0.,  0.,\n",
              "        0.])"
            ]
          },
          "metadata": {},
          "execution_count": 36
        }
      ],
      "source": [
        "# Now let's get the test user vector by excluding the `user` column\n",
        "test_user_vector = test_user_profile.iloc[0, 1:].values\n",
        "test_user_vector"
      ]
    },
    {
      "cell_type": "markdown",
      "metadata": {
        "id": "GiD2F2Ae2Jfs"
      },
      "source": [
        "We can first find their enrolled courses in `test_users_df`:\n"
      ]
    },
    {
      "cell_type": "code",
      "execution_count": null,
      "metadata": {
        "id": "qPiEXmRE2Jfs"
      },
      "outputs": [],
      "source": [
        "enrolled_courses = test_users_df[test_users_df['user'] == 1078030]['item'].to_list()\n",
        "enrolled_courses = set(enrolled_courses)"
      ]
    },
    {
      "cell_type": "code",
      "execution_count": null,
      "metadata": {
        "colab": {
          "base_uri": "https://localhost:8080/"
        },
        "id": "eTk5Lv3U2Jfs",
        "outputId": "a1bf3732-8e37-4ad9-c24e-3601315ab4c8"
      },
      "outputs": [
        {
          "output_type": "execute_result",
          "data": {
            "text/plain": [
              "{'DA0101EN',\n",
              " 'DV0101EN',\n",
              " 'ML0101ENv3',\n",
              " 'ML0115EN',\n",
              " 'ML0120ENv2',\n",
              " 'ML0122ENv1',\n",
              " 'PY0101EN',\n",
              " 'ST0101EN'}"
            ]
          },
          "metadata": {},
          "execution_count": 38
        }
      ],
      "source": [
        "enrolled_courses"
      ]
    },
    {
      "cell_type": "markdown",
      "metadata": {
        "id": "j-DM0C2U2Jft"
      },
      "source": [
        "We then print the entire course list:\n"
      ]
    },
    {
      "cell_type": "code",
      "execution_count": null,
      "metadata": {
        "collapsed": true,
        "jupyter": {
          "outputs_hidden": true
        },
        "tags": [],
        "colab": {
          "base_uri": "https://localhost:8080/"
        },
        "id": "0Alx640K2Jft",
        "outputId": "7ba0882a-656c-4f24-95de-31be91aaf1df"
      },
      "outputs": [
        {
          "output_type": "execute_result",
          "data": {
            "text/plain": [
              "{'AI0111EN',\n",
              " 'BC0101EN',\n",
              " 'BC0201EN',\n",
              " 'BC0202EN',\n",
              " 'BD0101EN',\n",
              " 'BD0111EN',\n",
              " 'BD0115EN',\n",
              " 'BD0121EN',\n",
              " 'BD0123EN',\n",
              " 'BD0131EN',\n",
              " 'BD0133EN',\n",
              " 'BD0135EN',\n",
              " 'BD0137EN',\n",
              " 'BD0141EN',\n",
              " 'BD0143EN',\n",
              " 'BD0145EN',\n",
              " 'BD0151EN',\n",
              " 'BD0153EN',\n",
              " 'BD0211EN',\n",
              " 'BD0212EN',\n",
              " 'BD0221EN',\n",
              " 'BD0223EN',\n",
              " 'BENTEST4',\n",
              " 'CB0101EN',\n",
              " 'CB0103EN',\n",
              " 'CB0105ENv1',\n",
              " 'CB0201EN',\n",
              " 'CC0101EN',\n",
              " 'CC0103EN',\n",
              " 'CC0120EN',\n",
              " 'CC0121EN',\n",
              " 'CC0150EN',\n",
              " 'CC0201EN',\n",
              " 'CC0210EN',\n",
              " 'CC0250EN',\n",
              " 'CC0271EN',\n",
              " 'CL0101EN',\n",
              " 'CNSC02EN',\n",
              " 'CO0101EN',\n",
              " 'CO0193EN',\n",
              " 'CO0201EN',\n",
              " 'CO0301EN',\n",
              " 'CO0302EN',\n",
              " 'CO0401EN',\n",
              " 'COM001EN',\n",
              " 'CP0101EN',\n",
              " 'DA0101EN',\n",
              " 'DA0151EN',\n",
              " 'DA0201EN',\n",
              " 'DAI101EN',\n",
              " 'DB0101EN',\n",
              " 'DB0111EN',\n",
              " 'DB0113EN',\n",
              " 'DB0115EN',\n",
              " 'DB0151EN',\n",
              " 'DE0205EN',\n",
              " 'DJ0101EN',\n",
              " 'DP0101EN',\n",
              " 'DS0101EN',\n",
              " 'DS0103EN',\n",
              " 'DS0105EN',\n",
              " 'DS0107',\n",
              " 'DS0110EN',\n",
              " 'DS0132EN',\n",
              " 'DS0201EN',\n",
              " 'DS0301EN',\n",
              " 'DS0321EN',\n",
              " 'DV0101EN',\n",
              " 'DV0151EN',\n",
              " 'DW0101EN',\n",
              " 'DX0106EN',\n",
              " 'DX0107EN',\n",
              " 'DX0108EN',\n",
              " 'EE0101EN',\n",
              " 'GPXX01AVEN',\n",
              " 'GPXX01DCEN',\n",
              " 'GPXX01RYEN',\n",
              " 'GPXX03HFEN',\n",
              " 'GPXX0435EN',\n",
              " 'GPXX048OEN',\n",
              " 'GPXX04HEEN',\n",
              " 'GPXX04MXEN',\n",
              " 'GPXX04P5EN',\n",
              " 'GPXX04TNEN',\n",
              " 'GPXX04V3EN',\n",
              " 'GPXX04XJEN',\n",
              " 'GPXX05LMEN',\n",
              " 'GPXX05P1EN',\n",
              " 'GPXX05RDEN',\n",
              " 'GPXX06KEEN',\n",
              " 'GPXX06RFEN',\n",
              " 'GPXX06ZLEN',\n",
              " 'GPXX0725EN',\n",
              " 'GPXX0742EN',\n",
              " 'GPXX07REN',\n",
              " 'GPXX07UGEN',\n",
              " 'GPXX07YGEN',\n",
              " 'GPXX08WYEN',\n",
              " 'GPXX097UEN',\n",
              " 'GPXX0A1YEN',\n",
              " 'GPXX0ADEN',\n",
              " 'GPXX0BSAEN',\n",
              " 'GPXX0BUBEN',\n",
              " 'GPXX0D14EN',\n",
              " 'GPXX0E3QEN',\n",
              " 'GPXX0FFCEN',\n",
              " 'GPXX0FTCEN',\n",
              " 'GPXX0G31EN',\n",
              " 'GPXX0G3KEN',\n",
              " 'GPXX0G81EN',\n",
              " 'GPXX0HAAEN',\n",
              " 'GPXX0HC7EN',\n",
              " 'GPXX0HZ2EN',\n",
              " 'GPXX0I4FEN',\n",
              " 'GPXX0IBEN',\n",
              " 'GPXX0IHMEN',\n",
              " 'GPXX0JGFEN',\n",
              " 'GPXX0JLHEN',\n",
              " 'GPXX0JZ4EN',\n",
              " 'GPXX0KHHEN',\n",
              " 'GPXX0KV4EN',\n",
              " 'GPXX0KY1EN',\n",
              " 'GPXX0LLEEN',\n",
              " 'GPXX0M6UEN',\n",
              " 'GPXX0M7ZEN',\n",
              " 'GPXX0MIIEN',\n",
              " 'GPXX0MP0EN',\n",
              " 'GPXX0NHZEN',\n",
              " 'GPXX0PG8EN',\n",
              " 'GPXX0PICEN',\n",
              " 'GPXX0Q8AEN',\n",
              " 'GPXX0QJFEN',\n",
              " 'GPXX0QQ3EN',\n",
              " 'GPXX0QR3EN',\n",
              " 'GPXX0QS6EN',\n",
              " 'GPXX0QTEEN',\n",
              " 'GPXX0QU9EN',\n",
              " 'GPXX0RL8EN',\n",
              " 'GPXX0RQLEN',\n",
              " 'GPXX0SDXEN',\n",
              " 'GPXX0T0FEN',\n",
              " 'GPXX0T3CEN',\n",
              " 'GPXX0TY1EN',\n",
              " 'GPXX0UMSEN',\n",
              " 'GPXX0UN5EN',\n",
              " 'GPXX0W7KEN',\n",
              " 'GPXX0WRDEN',\n",
              " 'GPXX0WTIEN',\n",
              " 'GPXX0XENEN',\n",
              " 'GPXX0XFQEN',\n",
              " 'GPXX0XV3EN',\n",
              " 'GPXX0YBFEN',\n",
              " 'GPXX0YMEEN',\n",
              " 'GPXX0YXHEN',\n",
              " 'GPXX0Z2PEN',\n",
              " 'GPXX0ZG0EN',\n",
              " 'GPXX0ZMZEN',\n",
              " 'GPXX0ZYVEN',\n",
              " 'HCC104EN',\n",
              " 'HCC105EN',\n",
              " 'IT0101EN',\n",
              " 'LB0101ENv1',\n",
              " 'LB0103ENv1',\n",
              " 'LB0105ENv1',\n",
              " 'LB0107ENv1',\n",
              " 'LB0109ENv1',\n",
              " 'LB0111EN',\n",
              " 'ML0101EN',\n",
              " 'ML0101ENv3',\n",
              " 'ML0103EN',\n",
              " 'ML0109EN',\n",
              " 'ML0111EN',\n",
              " 'ML0115EN',\n",
              " 'ML0120EN',\n",
              " 'ML0120ENv2',\n",
              " 'ML0120ENv3',\n",
              " 'ML0122EN',\n",
              " 'ML0122ENv1',\n",
              " 'ML0122ENv3',\n",
              " 'ML0151EN',\n",
              " 'ML0201EN',\n",
              " 'OS0101EN',\n",
              " 'PA0101EN',\n",
              " 'PA0103EN',\n",
              " 'PA0107EN',\n",
              " 'PA0109EN',\n",
              " 'PHPM002EN',\n",
              " 'PY0101EN',\n",
              " 'QC0101EN',\n",
              " 'RAVSCTEST1',\n",
              " 'RP0101EN',\n",
              " 'RP0103',\n",
              " 'RP0103EN',\n",
              " 'RP0105EN',\n",
              " 'RP0151EN',\n",
              " 'SC0101EN',\n",
              " 'SC0103EN',\n",
              " 'SC0105EN',\n",
              " 'SECM03EN',\n",
              " 'SN0111EN',\n",
              " 'ST0101EN',\n",
              " 'ST0201EN',\n",
              " 'ST0301EN',\n",
              " 'SW0101EN',\n",
              " 'SW0201EN',\n",
              " 'TA0105',\n",
              " 'TA0105EN',\n",
              " 'TA0106EN',\n",
              " 'TMP0101EN',\n",
              " 'TMP0105EN',\n",
              " 'TMP0106',\n",
              " 'TMP107',\n",
              " 'WA0101EN',\n",
              " 'WA0103EN',\n",
              " 'excourse01',\n",
              " 'excourse02',\n",
              " 'excourse03',\n",
              " 'excourse04',\n",
              " 'excourse05',\n",
              " 'excourse06',\n",
              " 'excourse07',\n",
              " 'excourse08',\n",
              " 'excourse09',\n",
              " 'excourse10',\n",
              " 'excourse11',\n",
              " 'excourse12',\n",
              " 'excourse13',\n",
              " 'excourse14',\n",
              " 'excourse15',\n",
              " 'excourse16',\n",
              " 'excourse17',\n",
              " 'excourse18',\n",
              " 'excourse19',\n",
              " 'excourse20',\n",
              " 'excourse21',\n",
              " 'excourse22',\n",
              " 'excourse23',\n",
              " 'excourse24',\n",
              " 'excourse25',\n",
              " 'excourse26',\n",
              " 'excourse27',\n",
              " 'excourse28',\n",
              " 'excourse29',\n",
              " 'excourse30',\n",
              " 'excourse31',\n",
              " 'excourse32',\n",
              " 'excourse33',\n",
              " 'excourse34',\n",
              " 'excourse35',\n",
              " 'excourse36',\n",
              " 'excourse37',\n",
              " 'excourse38',\n",
              " 'excourse39',\n",
              " 'excourse40',\n",
              " 'excourse41',\n",
              " 'excourse42',\n",
              " 'excourse43',\n",
              " 'excourse44',\n",
              " 'excourse45',\n",
              " 'excourse46',\n",
              " 'excourse47',\n",
              " 'excourse48',\n",
              " 'excourse49',\n",
              " 'excourse50',\n",
              " 'excourse51',\n",
              " 'excourse52',\n",
              " 'excourse53',\n",
              " 'excourse54',\n",
              " 'excourse55',\n",
              " 'excourse56',\n",
              " 'excourse57',\n",
              " 'excourse58',\n",
              " 'excourse59',\n",
              " 'excourse60',\n",
              " 'excourse61',\n",
              " 'excourse62',\n",
              " 'excourse63',\n",
              " 'excourse64',\n",
              " 'excourse65',\n",
              " 'excourse66',\n",
              " 'excourse67',\n",
              " 'excourse68',\n",
              " 'excourse69',\n",
              " 'excourse70',\n",
              " 'excourse71',\n",
              " 'excourse72',\n",
              " 'excourse73',\n",
              " 'excourse74',\n",
              " 'excourse75',\n",
              " 'excourse76',\n",
              " 'excourse77',\n",
              " 'excourse78',\n",
              " 'excourse79',\n",
              " 'excourse80',\n",
              " 'excourse81',\n",
              " 'excourse82',\n",
              " 'excourse83',\n",
              " 'excourse84',\n",
              " 'excourse85',\n",
              " 'excourse86',\n",
              " 'excourse87',\n",
              " 'excourse88',\n",
              " 'excourse89',\n",
              " 'excourse90',\n",
              " 'excourse91',\n",
              " 'excourse92',\n",
              " 'excourse93'}"
            ]
          },
          "metadata": {},
          "execution_count": 39
        }
      ],
      "source": [
        "all_courses = set(course_genres_df['COURSE_ID'].values)\n",
        "all_courses "
      ]
    },
    {
      "cell_type": "markdown",
      "metadata": {
        "id": "zziPQ9a42Jft"
      },
      "source": [
        "Then we can use all courses to subtract the enrolled courses to get a set of all unknown courses for user `1078030`, and we want to find potential interested courses hidden in the unknown course list.\n"
      ]
    },
    {
      "cell_type": "code",
      "execution_count": null,
      "metadata": {
        "collapsed": true,
        "jupyter": {
          "outputs_hidden": true
        },
        "tags": [],
        "colab": {
          "base_uri": "https://localhost:8080/"
        },
        "id": "OAUmbZS62Jft",
        "outputId": "4c13b6ec-8096-4a32-d3d5-5dd8d596e1e3"
      },
      "outputs": [
        {
          "output_type": "execute_result",
          "data": {
            "text/plain": [
              "{'AI0111EN',\n",
              " 'BC0101EN',\n",
              " 'BC0201EN',\n",
              " 'BC0202EN',\n",
              " 'BD0101EN',\n",
              " 'BD0111EN',\n",
              " 'BD0115EN',\n",
              " 'BD0121EN',\n",
              " 'BD0123EN',\n",
              " 'BD0131EN',\n",
              " 'BD0133EN',\n",
              " 'BD0135EN',\n",
              " 'BD0137EN',\n",
              " 'BD0141EN',\n",
              " 'BD0143EN',\n",
              " 'BD0145EN',\n",
              " 'BD0151EN',\n",
              " 'BD0153EN',\n",
              " 'BD0211EN',\n",
              " 'BD0212EN',\n",
              " 'BD0221EN',\n",
              " 'BD0223EN',\n",
              " 'BENTEST4',\n",
              " 'CB0101EN',\n",
              " 'CB0103EN',\n",
              " 'CB0105ENv1',\n",
              " 'CB0201EN',\n",
              " 'CC0101EN',\n",
              " 'CC0103EN',\n",
              " 'CC0120EN',\n",
              " 'CC0121EN',\n",
              " 'CC0150EN',\n",
              " 'CC0201EN',\n",
              " 'CC0210EN',\n",
              " 'CC0250EN',\n",
              " 'CC0271EN',\n",
              " 'CL0101EN',\n",
              " 'CNSC02EN',\n",
              " 'CO0101EN',\n",
              " 'CO0193EN',\n",
              " 'CO0201EN',\n",
              " 'CO0301EN',\n",
              " 'CO0302EN',\n",
              " 'CO0401EN',\n",
              " 'COM001EN',\n",
              " 'CP0101EN',\n",
              " 'DA0151EN',\n",
              " 'DA0201EN',\n",
              " 'DAI101EN',\n",
              " 'DB0101EN',\n",
              " 'DB0111EN',\n",
              " 'DB0113EN',\n",
              " 'DB0115EN',\n",
              " 'DB0151EN',\n",
              " 'DE0205EN',\n",
              " 'DJ0101EN',\n",
              " 'DP0101EN',\n",
              " 'DS0101EN',\n",
              " 'DS0103EN',\n",
              " 'DS0105EN',\n",
              " 'DS0107',\n",
              " 'DS0110EN',\n",
              " 'DS0132EN',\n",
              " 'DS0201EN',\n",
              " 'DS0301EN',\n",
              " 'DS0321EN',\n",
              " 'DV0151EN',\n",
              " 'DW0101EN',\n",
              " 'DX0106EN',\n",
              " 'DX0107EN',\n",
              " 'DX0108EN',\n",
              " 'EE0101EN',\n",
              " 'GPXX01AVEN',\n",
              " 'GPXX01DCEN',\n",
              " 'GPXX01RYEN',\n",
              " 'GPXX03HFEN',\n",
              " 'GPXX0435EN',\n",
              " 'GPXX048OEN',\n",
              " 'GPXX04HEEN',\n",
              " 'GPXX04MXEN',\n",
              " 'GPXX04P5EN',\n",
              " 'GPXX04TNEN',\n",
              " 'GPXX04V3EN',\n",
              " 'GPXX04XJEN',\n",
              " 'GPXX05LMEN',\n",
              " 'GPXX05P1EN',\n",
              " 'GPXX05RDEN',\n",
              " 'GPXX06KEEN',\n",
              " 'GPXX06RFEN',\n",
              " 'GPXX06ZLEN',\n",
              " 'GPXX0725EN',\n",
              " 'GPXX0742EN',\n",
              " 'GPXX07REN',\n",
              " 'GPXX07UGEN',\n",
              " 'GPXX07YGEN',\n",
              " 'GPXX08WYEN',\n",
              " 'GPXX097UEN',\n",
              " 'GPXX0A1YEN',\n",
              " 'GPXX0ADEN',\n",
              " 'GPXX0BSAEN',\n",
              " 'GPXX0BUBEN',\n",
              " 'GPXX0D14EN',\n",
              " 'GPXX0E3QEN',\n",
              " 'GPXX0FFCEN',\n",
              " 'GPXX0FTCEN',\n",
              " 'GPXX0G31EN',\n",
              " 'GPXX0G3KEN',\n",
              " 'GPXX0G81EN',\n",
              " 'GPXX0HAAEN',\n",
              " 'GPXX0HC7EN',\n",
              " 'GPXX0HZ2EN',\n",
              " 'GPXX0I4FEN',\n",
              " 'GPXX0IBEN',\n",
              " 'GPXX0IHMEN',\n",
              " 'GPXX0JGFEN',\n",
              " 'GPXX0JLHEN',\n",
              " 'GPXX0JZ4EN',\n",
              " 'GPXX0KHHEN',\n",
              " 'GPXX0KV4EN',\n",
              " 'GPXX0KY1EN',\n",
              " 'GPXX0LLEEN',\n",
              " 'GPXX0M6UEN',\n",
              " 'GPXX0M7ZEN',\n",
              " 'GPXX0MIIEN',\n",
              " 'GPXX0MP0EN',\n",
              " 'GPXX0NHZEN',\n",
              " 'GPXX0PG8EN',\n",
              " 'GPXX0PICEN',\n",
              " 'GPXX0Q8AEN',\n",
              " 'GPXX0QJFEN',\n",
              " 'GPXX0QQ3EN',\n",
              " 'GPXX0QR3EN',\n",
              " 'GPXX0QS6EN',\n",
              " 'GPXX0QTEEN',\n",
              " 'GPXX0QU9EN',\n",
              " 'GPXX0RL8EN',\n",
              " 'GPXX0RQLEN',\n",
              " 'GPXX0SDXEN',\n",
              " 'GPXX0T0FEN',\n",
              " 'GPXX0T3CEN',\n",
              " 'GPXX0TY1EN',\n",
              " 'GPXX0UMSEN',\n",
              " 'GPXX0UN5EN',\n",
              " 'GPXX0W7KEN',\n",
              " 'GPXX0WRDEN',\n",
              " 'GPXX0WTIEN',\n",
              " 'GPXX0XENEN',\n",
              " 'GPXX0XFQEN',\n",
              " 'GPXX0XV3EN',\n",
              " 'GPXX0YBFEN',\n",
              " 'GPXX0YMEEN',\n",
              " 'GPXX0YXHEN',\n",
              " 'GPXX0Z2PEN',\n",
              " 'GPXX0ZG0EN',\n",
              " 'GPXX0ZMZEN',\n",
              " 'GPXX0ZYVEN',\n",
              " 'HCC104EN',\n",
              " 'HCC105EN',\n",
              " 'IT0101EN',\n",
              " 'LB0101ENv1',\n",
              " 'LB0103ENv1',\n",
              " 'LB0105ENv1',\n",
              " 'LB0107ENv1',\n",
              " 'LB0109ENv1',\n",
              " 'LB0111EN',\n",
              " 'ML0101EN',\n",
              " 'ML0103EN',\n",
              " 'ML0109EN',\n",
              " 'ML0111EN',\n",
              " 'ML0120EN',\n",
              " 'ML0120ENv3',\n",
              " 'ML0122EN',\n",
              " 'ML0122ENv3',\n",
              " 'ML0151EN',\n",
              " 'ML0201EN',\n",
              " 'OS0101EN',\n",
              " 'PA0101EN',\n",
              " 'PA0103EN',\n",
              " 'PA0107EN',\n",
              " 'PA0109EN',\n",
              " 'PHPM002EN',\n",
              " 'QC0101EN',\n",
              " 'RAVSCTEST1',\n",
              " 'RP0101EN',\n",
              " 'RP0103',\n",
              " 'RP0103EN',\n",
              " 'RP0105EN',\n",
              " 'RP0151EN',\n",
              " 'SC0101EN',\n",
              " 'SC0103EN',\n",
              " 'SC0105EN',\n",
              " 'SECM03EN',\n",
              " 'SN0111EN',\n",
              " 'ST0201EN',\n",
              " 'ST0301EN',\n",
              " 'SW0101EN',\n",
              " 'SW0201EN',\n",
              " 'TA0105',\n",
              " 'TA0105EN',\n",
              " 'TA0106EN',\n",
              " 'TMP0101EN',\n",
              " 'TMP0105EN',\n",
              " 'TMP0106',\n",
              " 'TMP107',\n",
              " 'WA0101EN',\n",
              " 'WA0103EN',\n",
              " 'excourse01',\n",
              " 'excourse02',\n",
              " 'excourse03',\n",
              " 'excourse04',\n",
              " 'excourse05',\n",
              " 'excourse06',\n",
              " 'excourse07',\n",
              " 'excourse08',\n",
              " 'excourse09',\n",
              " 'excourse10',\n",
              " 'excourse11',\n",
              " 'excourse12',\n",
              " 'excourse13',\n",
              " 'excourse14',\n",
              " 'excourse15',\n",
              " 'excourse16',\n",
              " 'excourse17',\n",
              " 'excourse18',\n",
              " 'excourse19',\n",
              " 'excourse20',\n",
              " 'excourse21',\n",
              " 'excourse22',\n",
              " 'excourse23',\n",
              " 'excourse24',\n",
              " 'excourse25',\n",
              " 'excourse26',\n",
              " 'excourse27',\n",
              " 'excourse28',\n",
              " 'excourse29',\n",
              " 'excourse30',\n",
              " 'excourse31',\n",
              " 'excourse32',\n",
              " 'excourse33',\n",
              " 'excourse34',\n",
              " 'excourse35',\n",
              " 'excourse36',\n",
              " 'excourse37',\n",
              " 'excourse38',\n",
              " 'excourse39',\n",
              " 'excourse40',\n",
              " 'excourse41',\n",
              " 'excourse42',\n",
              " 'excourse43',\n",
              " 'excourse44',\n",
              " 'excourse45',\n",
              " 'excourse46',\n",
              " 'excourse47',\n",
              " 'excourse48',\n",
              " 'excourse49',\n",
              " 'excourse50',\n",
              " 'excourse51',\n",
              " 'excourse52',\n",
              " 'excourse53',\n",
              " 'excourse54',\n",
              " 'excourse55',\n",
              " 'excourse56',\n",
              " 'excourse57',\n",
              " 'excourse58',\n",
              " 'excourse59',\n",
              " 'excourse60',\n",
              " 'excourse61',\n",
              " 'excourse62',\n",
              " 'excourse63',\n",
              " 'excourse64',\n",
              " 'excourse65',\n",
              " 'excourse66',\n",
              " 'excourse67',\n",
              " 'excourse68',\n",
              " 'excourse69',\n",
              " 'excourse70',\n",
              " 'excourse71',\n",
              " 'excourse72',\n",
              " 'excourse73',\n",
              " 'excourse74',\n",
              " 'excourse75',\n",
              " 'excourse76',\n",
              " 'excourse77',\n",
              " 'excourse78',\n",
              " 'excourse79',\n",
              " 'excourse80',\n",
              " 'excourse81',\n",
              " 'excourse82',\n",
              " 'excourse83',\n",
              " 'excourse84',\n",
              " 'excourse85',\n",
              " 'excourse86',\n",
              " 'excourse87',\n",
              " 'excourse88',\n",
              " 'excourse89',\n",
              " 'excourse90',\n",
              " 'excourse91',\n",
              " 'excourse92',\n",
              " 'excourse93'}"
            ]
          },
          "metadata": {},
          "execution_count": 40
        }
      ],
      "source": [
        "unknown_courses = all_courses.difference(enrolled_courses)\n",
        "unknown_courses"
      ]
    },
    {
      "cell_type": "markdown",
      "metadata": {
        "id": "CYTorJnl2Jfu"
      },
      "source": [
        "We can get the genre vectors for those unknown courses as well:\n"
      ]
    },
    {
      "cell_type": "code",
      "execution_count": null,
      "metadata": {
        "colab": {
          "base_uri": "https://localhost:8080/"
        },
        "id": "1Akb2VRJ2Jfu",
        "outputId": "d193f07b-2d6e-4ef0-9e6f-0851b73bb6b3"
      },
      "outputs": [
        {
          "output_type": "execute_result",
          "data": {
            "text/plain": [
              "array([[0, 0, 0, ..., 1, 1, 0],\n",
              "       [0, 1, 0, ..., 0, 0, 0],\n",
              "       [0, 0, 0, ..., 1, 1, 0],\n",
              "       ...,\n",
              "       [0, 0, 0, ..., 0, 1, 0],\n",
              "       [0, 0, 0, ..., 1, 1, 0],\n",
              "       [0, 0, 0, ..., 1, 1, 0]])"
            ]
          },
          "metadata": {},
          "execution_count": 41
        }
      ],
      "source": [
        "unknown_course_genres = course_genres_df[course_genres_df['COURSE_ID'].isin(unknown_courses)]\n",
        "# Now let's get the course matrix by excluding `COURSE_ID` and `TITLE` columns:\n",
        "course_matrix = unknown_course_genres.iloc[:, 2:].values\n",
        "course_matrix"
      ]
    },
    {
      "cell_type": "markdown",
      "metadata": {
        "id": "PB9SdJge2Jfu"
      },
      "source": [
        "Given the user profile vector for user `1078030`  and all the unseen course genres vectors above, you can use the dot product to calculate the recommendation score for each unknown course. e.g., the recommendation score for course `accelerating deep learning with gpu` is:\n"
      ]
    },
    {
      "cell_type": "code",
      "execution_count": null,
      "metadata": {
        "colab": {
          "base_uri": "https://localhost:8080/"
        },
        "id": "AHUH2ec22Jfu",
        "outputId": "8ea4fc4f-f159-4c0f-8782-7327c9dbf786"
      },
      "outputs": [
        {
          "output_type": "execute_result",
          "data": {
            "text/plain": [
              "30.0"
            ]
          },
          "metadata": {},
          "execution_count": 42
        }
      ],
      "source": [
        "score = np.dot(course_matrix[1], test_user_vector)\n",
        "score"
      ]
    },
    {
      "cell_type": "markdown",
      "metadata": {
        "id": "7oXRVR_22Jfu"
      },
      "source": [
        "Later, we will need to choose a recommendation score threshold. If the score of any course is above the threshold, we may recommend that course to the user.\n"
      ]
    },
    {
      "cell_type": "markdown",
      "metadata": {
        "id": "eglbiQiM2Jfv"
      },
      "source": [
        "The workflow can be summarized in the following flowchart:\n"
      ]
    },
    {
      "cell_type": "markdown",
      "metadata": {
        "id": "C3kdM_Vm2Jfv"
      },
      "source": [
        "![](https://cf-courses-data.s3.us.cloud-object-storage.appdomain.cloud/IBM-ML321EN-SkillsNetwork/labs/module\\_3/images/recommend_courses.png)\n"
      ]
    },
    {
      "cell_type": "markdown",
      "metadata": {
        "id": "sOc0K-d52Jfv"
      },
      "source": [
        "Next, let's calculate the recommendation scores of all courses for all the 1000 test users.\n"
      ]
    },
    {
      "cell_type": "code",
      "execution_count": null,
      "metadata": {
        "id": "KpgOKc6u2Jfv"
      },
      "outputs": [],
      "source": [
        "# We first reload all datasets again, and create an empty dictionary to store the results\n",
        "test_users_df = pd.read_csv(test_users_url)\n",
        "profile_df = pd.read_csv(profile_genre_url)\n",
        "course_genres_df = pd.read_csv(course_genre_url)\n",
        "res_dict = {}"
      ]
    },
    {
      "cell_type": "markdown",
      "metadata": {
        "id": "hSsPuRdU2Jfv"
      },
      "source": [
        "We only want to recommend courses with very high scores so we may set a score threshold to filter out those courses with low scores.\n"
      ]
    },
    {
      "cell_type": "code",
      "execution_count": null,
      "metadata": {
        "id": "rJIaDRIW2Jfw"
      },
      "outputs": [],
      "source": [
        "# Only keep the score larger than the recommendation threshold\n",
        "# The threshold can be fine-tuned to adjust the size of generated recommendations\n",
        "score_threshold = 10.0"
      ]
    },
    {
      "cell_type": "markdown",
      "metadata": {
        "id": "IurEEy_v2Jfw"
      },
      "source": [
        "We defined a function called `generate_recommendation_scores()` to compute the recommendation scores of all the unknown courses for all test users.\n"
      ]
    },
    {
      "cell_type": "markdown",
      "metadata": {
        "id": "9Q-AiXL82Jfw"
      },
      "source": [
        "*TODO: Complete the generate_recommendation_scores() function blow to generate recommendation score for all users. You may also implement the task with different solutions.*\n"
      ]
    },
    {
      "cell_type": "code",
      "execution_count": null,
      "metadata": {
        "colab": {
          "base_uri": "https://localhost:8080/",
          "height": 145
        },
        "id": "t5XH832r2Jfw",
        "outputId": "412b6239-388b-4996-f549-c91088279158"
      },
      "outputs": [
        {
          "output_type": "execute_result",
          "data": {
            "text/plain": [
              "      user  Database  Python  CloudComputing  DataAnalysis  Containers  \\\n",
              "210  37465      12.0     0.0             3.0           3.0         0.0   \n",
              "\n",
              "     MachineLearning  ComputerVision  DataScience  BigData  Chatbot    R  \\\n",
              "210              0.0             0.0          6.0     12.0      0.0  0.0   \n",
              "\n",
              "     BackendDev  FrontendDev  Blockchain  \n",
              "210         3.0          0.0         0.0  "
            ],
            "text/html": [
              "\n",
              "  <div id=\"df-14eff927-6251-480e-b0d7-f949e8b50ebd\">\n",
              "    <div class=\"colab-df-container\">\n",
              "      <div>\n",
              "<style scoped>\n",
              "    .dataframe tbody tr th:only-of-type {\n",
              "        vertical-align: middle;\n",
              "    }\n",
              "\n",
              "    .dataframe tbody tr th {\n",
              "        vertical-align: top;\n",
              "    }\n",
              "\n",
              "    .dataframe thead th {\n",
              "        text-align: right;\n",
              "    }\n",
              "</style>\n",
              "<table border=\"1\" class=\"dataframe\">\n",
              "  <thead>\n",
              "    <tr style=\"text-align: right;\">\n",
              "      <th></th>\n",
              "      <th>user</th>\n",
              "      <th>Database</th>\n",
              "      <th>Python</th>\n",
              "      <th>CloudComputing</th>\n",
              "      <th>DataAnalysis</th>\n",
              "      <th>Containers</th>\n",
              "      <th>MachineLearning</th>\n",
              "      <th>ComputerVision</th>\n",
              "      <th>DataScience</th>\n",
              "      <th>BigData</th>\n",
              "      <th>Chatbot</th>\n",
              "      <th>R</th>\n",
              "      <th>BackendDev</th>\n",
              "      <th>FrontendDev</th>\n",
              "      <th>Blockchain</th>\n",
              "    </tr>\n",
              "  </thead>\n",
              "  <tbody>\n",
              "    <tr>\n",
              "      <th>210</th>\n",
              "      <td>37465</td>\n",
              "      <td>12.0</td>\n",
              "      <td>0.0</td>\n",
              "      <td>3.0</td>\n",
              "      <td>3.0</td>\n",
              "      <td>0.0</td>\n",
              "      <td>0.0</td>\n",
              "      <td>0.0</td>\n",
              "      <td>6.0</td>\n",
              "      <td>12.0</td>\n",
              "      <td>0.0</td>\n",
              "      <td>0.0</td>\n",
              "      <td>3.0</td>\n",
              "      <td>0.0</td>\n",
              "      <td>0.0</td>\n",
              "    </tr>\n",
              "  </tbody>\n",
              "</table>\n",
              "</div>\n",
              "      <button class=\"colab-df-convert\" onclick=\"convertToInteractive('df-14eff927-6251-480e-b0d7-f949e8b50ebd')\"\n",
              "              title=\"Convert this dataframe to an interactive table.\"\n",
              "              style=\"display:none;\">\n",
              "        \n",
              "  <svg xmlns=\"http://www.w3.org/2000/svg\" height=\"24px\"viewBox=\"0 0 24 24\"\n",
              "       width=\"24px\">\n",
              "    <path d=\"M0 0h24v24H0V0z\" fill=\"none\"/>\n",
              "    <path d=\"M18.56 5.44l.94 2.06.94-2.06 2.06-.94-2.06-.94-.94-2.06-.94 2.06-2.06.94zm-11 1L8.5 8.5l.94-2.06 2.06-.94-2.06-.94L8.5 2.5l-.94 2.06-2.06.94zm10 10l.94 2.06.94-2.06 2.06-.94-2.06-.94-.94-2.06-.94 2.06-2.06.94z\"/><path d=\"M17.41 7.96l-1.37-1.37c-.4-.4-.92-.59-1.43-.59-.52 0-1.04.2-1.43.59L10.3 9.45l-7.72 7.72c-.78.78-.78 2.05 0 2.83L4 21.41c.39.39.9.59 1.41.59.51 0 1.02-.2 1.41-.59l7.78-7.78 2.81-2.81c.8-.78.8-2.07 0-2.86zM5.41 20L4 18.59l7.72-7.72 1.47 1.35L5.41 20z\"/>\n",
              "  </svg>\n",
              "      </button>\n",
              "      \n",
              "  <style>\n",
              "    .colab-df-container {\n",
              "      display:flex;\n",
              "      flex-wrap:wrap;\n",
              "      gap: 12px;\n",
              "    }\n",
              "\n",
              "    .colab-df-convert {\n",
              "      background-color: #E8F0FE;\n",
              "      border: none;\n",
              "      border-radius: 50%;\n",
              "      cursor: pointer;\n",
              "      display: none;\n",
              "      fill: #1967D2;\n",
              "      height: 32px;\n",
              "      padding: 0 0 0 0;\n",
              "      width: 32px;\n",
              "    }\n",
              "\n",
              "    .colab-df-convert:hover {\n",
              "      background-color: #E2EBFA;\n",
              "      box-shadow: 0px 1px 2px rgba(60, 64, 67, 0.3), 0px 1px 3px 1px rgba(60, 64, 67, 0.15);\n",
              "      fill: #174EA6;\n",
              "    }\n",
              "\n",
              "    [theme=dark] .colab-df-convert {\n",
              "      background-color: #3B4455;\n",
              "      fill: #D2E3FC;\n",
              "    }\n",
              "\n",
              "    [theme=dark] .colab-df-convert:hover {\n",
              "      background-color: #434B5C;\n",
              "      box-shadow: 0px 1px 3px 1px rgba(0, 0, 0, 0.15);\n",
              "      filter: drop-shadow(0px 1px 2px rgba(0, 0, 0, 0.3));\n",
              "      fill: #FFFFFF;\n",
              "    }\n",
              "  </style>\n",
              "\n",
              "      <script>\n",
              "        const buttonEl =\n",
              "          document.querySelector('#df-14eff927-6251-480e-b0d7-f949e8b50ebd button.colab-df-convert');\n",
              "        buttonEl.style.display =\n",
              "          google.colab.kernel.accessAllowed ? 'block' : 'none';\n",
              "\n",
              "        async function convertToInteractive(key) {\n",
              "          const element = document.querySelector('#df-14eff927-6251-480e-b0d7-f949e8b50ebd');\n",
              "          const dataTable =\n",
              "            await google.colab.kernel.invokeFunction('convertToInteractive',\n",
              "                                                     [key], {});\n",
              "          if (!dataTable) return;\n",
              "\n",
              "          const docLinkHtml = 'Like what you see? Visit the ' +\n",
              "            '<a target=\"_blank\" href=https://colab.research.google.com/notebooks/data_table.ipynb>data table notebook</a>'\n",
              "            + ' to learn more about interactive tables.';\n",
              "          element.innerHTML = '';\n",
              "          dataTable['output_type'] = 'display_data';\n",
              "          await google.colab.output.renderOutput(dataTable, element);\n",
              "          const docLink = document.createElement('div');\n",
              "          docLink.innerHTML = docLinkHtml;\n",
              "          element.appendChild(docLink);\n",
              "        }\n",
              "      </script>\n",
              "    </div>\n",
              "  </div>\n",
              "  "
            ]
          },
          "metadata": {},
          "execution_count": 45
        }
      ],
      "source": [
        "t = test_user_ids[0]\n",
        "\n",
        "profile_df[profile_df['user'] == t]"
      ]
    },
    {
      "cell_type": "code",
      "execution_count": null,
      "metadata": {
        "id": "xrml2nBT2Jfw"
      },
      "outputs": [],
      "source": [
        "test_user_vector = profile_df[profile_df['user'] == t].iloc[0,1:].values"
      ]
    },
    {
      "cell_type": "code",
      "execution_count": null,
      "metadata": {
        "colab": {
          "base_uri": "https://localhost:8080/"
        },
        "id": "diDNpfyt2Jfx",
        "outputId": "a442af53-8b83-43d8-9cbd-ee3449213439"
      },
      "outputs": [
        {
          "output_type": "execute_result",
          "data": {
            "text/plain": [
              "array([12.,  0.,  3.,  3.,  0.,  0.,  0.,  6., 12.,  0.,  0.,  3.,  0.,\n",
              "        0.])"
            ]
          },
          "metadata": {},
          "execution_count": 47
        }
      ],
      "source": [
        "test_user_vector"
      ]
    },
    {
      "cell_type": "code",
      "execution_count": null,
      "metadata": {
        "id": "2Iu4ySJD2Jfx"
      },
      "outputs": [],
      "source": [
        "all_courses = set(test_users_df.item)\n",
        "enrolled_courses = test_users_df[test_users_df['user'] == t]['item'].to_list()\n",
        "unknown_courses = list(all_courses.difference(enrolled_courses))\n",
        "unknown_course_df = course_genres_df.loc[course_genres_df.COURSE_ID.isin(unknown_courses)]\n",
        "unknown_course_ids = unknown_course_df['COURSE_ID'].values"
      ]
    },
    {
      "cell_type": "code",
      "execution_count": null,
      "metadata": {
        "id": "p5Vddrrf2Jfx"
      },
      "outputs": [],
      "source": [
        "new_course = unknown_course_df.query(\"COURSE_ID == @unknown_course_ids[0]\").iloc[0,2:].values"
      ]
    },
    {
      "cell_type": "code",
      "execution_count": null,
      "metadata": {
        "colab": {
          "base_uri": "https://localhost:8080/"
        },
        "id": "e5nwtY3-2Jfx",
        "outputId": "d5cf5ee3-f665-4dbe-8185-6cf1206220dc"
      },
      "outputs": [
        {
          "output_type": "execute_result",
          "data": {
            "text/plain": [
              "array([0, 0, 0, 0, 0, 0, 0, 0, 0, 0, 0, 1, 1, 0], dtype=object)"
            ]
          },
          "metadata": {},
          "execution_count": 50
        }
      ],
      "source": [
        "new_course"
      ]
    },
    {
      "cell_type": "code",
      "execution_count": null,
      "metadata": {
        "colab": {
          "base_uri": "https://localhost:8080/"
        },
        "id": "4syU9U4E2Jfx",
        "outputId": "53d5ca82-adc9-4fa2-cef7-f2b00d0b5052"
      },
      "outputs": [
        {
          "output_type": "execute_result",
          "data": {
            "text/plain": [
              "3.0"
            ]
          },
          "metadata": {},
          "execution_count": 51
        }
      ],
      "source": [
        "np.dot(test_user_vector, new_course)"
      ]
    },
    {
      "cell_type": "code",
      "execution_count": null,
      "metadata": {
        "id": "G88KgJoJ2Jf1"
      },
      "outputs": [],
      "source": [
        "score_threshold = 10.0\n",
        "def generate_recommendation_scores():\n",
        "    users = []\n",
        "    courses = []\n",
        "    scores = []\n",
        "    for user_id in test_user_ids:\n",
        "        test_user_profile = profile_df[profile_df['user'] == user_id]\n",
        "        # get user vector for the current user id\n",
        "        test_user_vector = test_user_profile.iloc[0, 1:].values\n",
        "        \n",
        "        # get the unknown course ids for the current user id\n",
        "        all_courses = set(test_users_df.item)\n",
        "        enrolled_courses = test_users_df[test_users_df['user'] == t]['item'].to_list()\n",
        "        unknown_courses = list(all_courses.difference(enrolled_courses))\n",
        "        unknown_course_df = course_genres_df.loc[course_genres_df.COURSE_ID.isin(unknown_courses)]\n",
        "        unknown_course_ids = unknown_course_df['COURSE_ID'].values\n",
        "        \n",
        "        # user np.dot() to get the recommendation scores for each course\n",
        "        recommendation_scores = []\n",
        "        for course in unknown_course_ids:\n",
        "            new_course_vector = unknown_course_df.query(\"COURSE_ID == @course\").iloc[0,2:].values\n",
        "            score = np.dot(test_user_vector, new_course_vector)\n",
        "            recommendation_scores.append(score)\n",
        "            \n",
        "            \n",
        "            \n",
        "        # Append the results into the users, courses, and scores list\n",
        "        for i in range(0, len(unknown_course_ids)):\n",
        "            score = recommendation_scores[i]\n",
        "            # Only keep the courses with high recommendation score\n",
        "            if score >= score_threshold:\n",
        "                users.append(user_id)\n",
        "                courses.append(unknown_course_ids[i])\n",
        "                scores.append(recommendation_scores[i])\n",
        "                \n",
        "    return users, courses, scores"
      ]
    },
    {
      "cell_type": "markdown",
      "metadata": {
        "id": "AjWbUU8u2Jf1"
      },
      "source": [
        "NOTE: Instead of using some absolute score threshold, you may also try sorting the scores for each user and return the top-ranked courses.\n"
      ]
    },
    {
      "cell_type": "markdown",
      "metadata": {
        "id": "5wolGp-m2Jf2"
      },
      "source": [
        "After you have completed the function `generate_recommendation_scores()` above, you can test it and generate recommendation scores and save the courses recommendations into a dataframe with three columns: `USER`, `COURSE_ID`, `SCORE`:\n"
      ]
    },
    {
      "cell_type": "code",
      "execution_count": null,
      "metadata": {
        "id": "iDdoW8qu2Jf2"
      },
      "outputs": [],
      "source": [
        "# Return users, courses, and scores lists for the dataframe\n",
        "users, courses, scores = generate_recommendation_scores()\n",
        "res_dict['USER'] = users\n",
        "res_dict['COURSE_ID'] = courses\n",
        "res_dict['SCORE'] = scores\n",
        "res_df = pd.DataFrame(res_dict, columns=['USER', 'COURSE_ID', 'SCORE'])\n",
        "# Save the dataframe \n",
        "#res_df.to_csv(\"profile_rs_results.csv\", index=False)"
      ]
    },
    {
      "cell_type": "code",
      "execution_count": null,
      "metadata": {
        "colab": {
          "base_uri": "https://localhost:8080/",
          "height": 206
        },
        "id": "ez00ox9D2Jf2",
        "outputId": "f30012d7-dab4-4fb9-a1f7-dbdc62bc744c"
      },
      "outputs": [
        {
          "output_type": "execute_result",
          "data": {
            "text/plain": [
              "    USER  COURSE_ID  SCORE\n",
              "0  37465   RP0105EN   27.0\n",
              "1  37465   CC0271EN   15.0\n",
              "2  37465   BD0145EN   24.0\n",
              "3  37465   DE0205EN   15.0\n",
              "4  37465  TMP0105EN   27.0"
            ],
            "text/html": [
              "\n",
              "  <div id=\"df-7f06d72c-a73f-43d3-93d8-047c11c4264e\">\n",
              "    <div class=\"colab-df-container\">\n",
              "      <div>\n",
              "<style scoped>\n",
              "    .dataframe tbody tr th:only-of-type {\n",
              "        vertical-align: middle;\n",
              "    }\n",
              "\n",
              "    .dataframe tbody tr th {\n",
              "        vertical-align: top;\n",
              "    }\n",
              "\n",
              "    .dataframe thead th {\n",
              "        text-align: right;\n",
              "    }\n",
              "</style>\n",
              "<table border=\"1\" class=\"dataframe\">\n",
              "  <thead>\n",
              "    <tr style=\"text-align: right;\">\n",
              "      <th></th>\n",
              "      <th>USER</th>\n",
              "      <th>COURSE_ID</th>\n",
              "      <th>SCORE</th>\n",
              "    </tr>\n",
              "  </thead>\n",
              "  <tbody>\n",
              "    <tr>\n",
              "      <th>0</th>\n",
              "      <td>37465</td>\n",
              "      <td>RP0105EN</td>\n",
              "      <td>27.0</td>\n",
              "    </tr>\n",
              "    <tr>\n",
              "      <th>1</th>\n",
              "      <td>37465</td>\n",
              "      <td>CC0271EN</td>\n",
              "      <td>15.0</td>\n",
              "    </tr>\n",
              "    <tr>\n",
              "      <th>2</th>\n",
              "      <td>37465</td>\n",
              "      <td>BD0145EN</td>\n",
              "      <td>24.0</td>\n",
              "    </tr>\n",
              "    <tr>\n",
              "      <th>3</th>\n",
              "      <td>37465</td>\n",
              "      <td>DE0205EN</td>\n",
              "      <td>15.0</td>\n",
              "    </tr>\n",
              "    <tr>\n",
              "      <th>4</th>\n",
              "      <td>37465</td>\n",
              "      <td>TMP0105EN</td>\n",
              "      <td>27.0</td>\n",
              "    </tr>\n",
              "  </tbody>\n",
              "</table>\n",
              "</div>\n",
              "      <button class=\"colab-df-convert\" onclick=\"convertToInteractive('df-7f06d72c-a73f-43d3-93d8-047c11c4264e')\"\n",
              "              title=\"Convert this dataframe to an interactive table.\"\n",
              "              style=\"display:none;\">\n",
              "        \n",
              "  <svg xmlns=\"http://www.w3.org/2000/svg\" height=\"24px\"viewBox=\"0 0 24 24\"\n",
              "       width=\"24px\">\n",
              "    <path d=\"M0 0h24v24H0V0z\" fill=\"none\"/>\n",
              "    <path d=\"M18.56 5.44l.94 2.06.94-2.06 2.06-.94-2.06-.94-.94-2.06-.94 2.06-2.06.94zm-11 1L8.5 8.5l.94-2.06 2.06-.94-2.06-.94L8.5 2.5l-.94 2.06-2.06.94zm10 10l.94 2.06.94-2.06 2.06-.94-2.06-.94-.94-2.06-.94 2.06-2.06.94z\"/><path d=\"M17.41 7.96l-1.37-1.37c-.4-.4-.92-.59-1.43-.59-.52 0-1.04.2-1.43.59L10.3 9.45l-7.72 7.72c-.78.78-.78 2.05 0 2.83L4 21.41c.39.39.9.59 1.41.59.51 0 1.02-.2 1.41-.59l7.78-7.78 2.81-2.81c.8-.78.8-2.07 0-2.86zM5.41 20L4 18.59l7.72-7.72 1.47 1.35L5.41 20z\"/>\n",
              "  </svg>\n",
              "      </button>\n",
              "      \n",
              "  <style>\n",
              "    .colab-df-container {\n",
              "      display:flex;\n",
              "      flex-wrap:wrap;\n",
              "      gap: 12px;\n",
              "    }\n",
              "\n",
              "    .colab-df-convert {\n",
              "      background-color: #E8F0FE;\n",
              "      border: none;\n",
              "      border-radius: 50%;\n",
              "      cursor: pointer;\n",
              "      display: none;\n",
              "      fill: #1967D2;\n",
              "      height: 32px;\n",
              "      padding: 0 0 0 0;\n",
              "      width: 32px;\n",
              "    }\n",
              "\n",
              "    .colab-df-convert:hover {\n",
              "      background-color: #E2EBFA;\n",
              "      box-shadow: 0px 1px 2px rgba(60, 64, 67, 0.3), 0px 1px 3px 1px rgba(60, 64, 67, 0.15);\n",
              "      fill: #174EA6;\n",
              "    }\n",
              "\n",
              "    [theme=dark] .colab-df-convert {\n",
              "      background-color: #3B4455;\n",
              "      fill: #D2E3FC;\n",
              "    }\n",
              "\n",
              "    [theme=dark] .colab-df-convert:hover {\n",
              "      background-color: #434B5C;\n",
              "      box-shadow: 0px 1px 3px 1px rgba(0, 0, 0, 0.15);\n",
              "      filter: drop-shadow(0px 1px 2px rgba(0, 0, 0, 0.3));\n",
              "      fill: #FFFFFF;\n",
              "    }\n",
              "  </style>\n",
              "\n",
              "      <script>\n",
              "        const buttonEl =\n",
              "          document.querySelector('#df-7f06d72c-a73f-43d3-93d8-047c11c4264e button.colab-df-convert');\n",
              "        buttonEl.style.display =\n",
              "          google.colab.kernel.accessAllowed ? 'block' : 'none';\n",
              "\n",
              "        async function convertToInteractive(key) {\n",
              "          const element = document.querySelector('#df-7f06d72c-a73f-43d3-93d8-047c11c4264e');\n",
              "          const dataTable =\n",
              "            await google.colab.kernel.invokeFunction('convertToInteractive',\n",
              "                                                     [key], {});\n",
              "          if (!dataTable) return;\n",
              "\n",
              "          const docLinkHtml = 'Like what you see? Visit the ' +\n",
              "            '<a target=\"_blank\" href=https://colab.research.google.com/notebooks/data_table.ipynb>data table notebook</a>'\n",
              "            + ' to learn more about interactive tables.';\n",
              "          element.innerHTML = '';\n",
              "          dataTable['output_type'] = 'display_data';\n",
              "          await google.colab.output.renderOutput(dataTable, element);\n",
              "          const docLink = document.createElement('div');\n",
              "          docLink.innerHTML = docLinkHtml;\n",
              "          element.appendChild(docLink);\n",
              "        }\n",
              "      </script>\n",
              "    </div>\n",
              "  </div>\n",
              "  "
            ]
          },
          "metadata": {},
          "execution_count": 54
        }
      ],
      "source": [
        "res_df.head()"
      ]
    },
    {
      "cell_type": "code",
      "execution_count": null,
      "metadata": {
        "id": "QDLTAqnq2Jf3"
      },
      "outputs": [],
      "source": [
        "res_df.to_csv(\"profile_rs_results.csv\", index=False)"
      ]
    },
    {
      "cell_type": "markdown",
      "metadata": {
        "id": "bzHV7IDb2Jf3"
      },
      "source": [
        "Your recommendation results may look like the following screenshot:\n"
      ]
    },
    {
      "cell_type": "markdown",
      "metadata": {
        "id": "ZrQngrJH2Jf3"
      },
      "source": [
        "![](https://cf-courses-data.s3.us.cloud-object-storage.appdomain.cloud/IBM-ML321EN-SkillsNetwork/labs/module\\_3/images/recommendation_scores.png)\n"
      ]
    },
    {
      "cell_type": "markdown",
      "metadata": {
        "id": "NyEtk34Q2Jf3"
      },
      "source": [
        "With the course recommendation list generated for each test user, you also need to perform some analytic tasks to answer the following two questions:\n"
      ]
    },
    {
      "cell_type": "markdown",
      "metadata": {
        "id": "DHVapQPJ2Jf3"
      },
      "source": [
        "*   On average, how many new courses have been recommended per test user?\n",
        "*   What are the most frequently recommended courses? Return the top-10 commonly recommended courses across all test users.\n"
      ]
    },
    {
      "cell_type": "code",
      "execution_count": null,
      "metadata": {
        "colab": {
          "base_uri": "https://localhost:8080/"
        },
        "id": "Hcjr0hSK2Jf4",
        "outputId": "a03a4ab5-5c60-4f2d-a4f2-ef8ea8c646c9"
      },
      "outputs": [
        {
          "output_type": "execute_result",
          "data": {
            "text/plain": [
              "23.814035087719297"
            ]
          },
          "metadata": {},
          "execution_count": 56
        }
      ],
      "source": [
        "res_df.groupby(\"USER\").size().mean()"
      ]
    },
    {
      "cell_type": "code",
      "execution_count": null,
      "metadata": {
        "colab": {
          "base_uri": "https://localhost:8080/"
        },
        "id": "HUM4iU7H2Jf5",
        "outputId": "dd6228ae-9177-47db-d85f-fc1fa396752e"
      },
      "outputs": [
        {
          "output_type": "execute_result",
          "data": {
            "text/plain": [
              "TA0106EN     618\n",
              "ML0101EN     547\n",
              "ML0122EN     547\n",
              "RP0105EN     540\n",
              "TMP0105EN    516\n",
              "BD0212EN     516\n",
              "SC0103EN     516\n",
              "PY0101EN     464\n",
              "BD0131EN     415\n",
              "BD0121EN     415\n",
              "Name: COURSE_ID, dtype: int64"
            ]
          },
          "metadata": {},
          "execution_count": 57
        }
      ],
      "source": [
        "res_df.COURSE_ID.value_counts(ascending = False)[0:10]"
      ]
    },
    {
      "cell_type": "markdown",
      "metadata": {
        "id": "i2Vt9tOz2Jf6"
      },
      "source": [
        "For example, suppose we have only 3 test users, each user receives the following course recommendations:\n"
      ]
    },
    {
      "cell_type": "markdown",
      "metadata": {
        "id": "U-jN_7Gr2Jf6"
      },
      "source": [
        "*   User1: \\['course1', 'course2']\n",
        "*   User2: \\['course3', 'course4']\n",
        "*   User3: \\['course3', 'course4', 'course5']\n"
      ]
    },
    {
      "cell_type": "markdown",
      "metadata": {
        "id": "92vuGJWT2Jf7"
      },
      "source": [
        "Then, the average recommended courses per user is: $(2 + 2 + 3) / 3 = 2.33$. The top-2 recommended courses are: `course3`: 2 times, and `course4`: 2 times.\n"
      ]
    },
    {
      "cell_type": "markdown",
      "metadata": {
        "id": "SPATIq2p2Jf7"
      },
      "source": [
        "Note that the answers may depend on your score threshold. A lower score threshold yields more recommended courses but with smaller confidence so that some test users may receive very long course recommendation lists and feel overwhelmed.\n",
        "\n",
        "Ideally, we should limit the maximum course recommendations to be less than 20 courses per user. As such, the average course recommendations per user should also be less than 20 or so. This makes sure we only recommend relevant courses with high confidence (score).\n"
      ]
    },
    {
      "cell_type": "markdown",
      "metadata": {
        "id": "qofcR94J2Jf8"
      },
      "source": [
        "### Summary\n"
      ]
    },
    {
      "cell_type": "markdown",
      "metadata": {
        "id": "3RW7dqQZ2Jf8"
      },
      "source": [
        "In this lab, you first learned how to generate a user profile vector based on the user's course ratings and course genre vectors. Then, with the user profile generated, you applied a simple dot product between the user profile vector and the course genre vector to generate a course recommendation score.\n",
        "\n",
        "The idea is if a user is interested in certain topics (genres) and if a course also has similar topics (genres), which means the user vector and course genre vector share common dimensions, and a dot product is able to capture such similarity.\n"
      ]
    },
    {
      "cell_type": "markdown",
      "metadata": {
        "id": "EfVlJhvL2Jf8"
      },
      "source": [
        "## Authors\n"
      ]
    },
    {
      "cell_type": "markdown",
      "metadata": {
        "id": "6dkvgPw32Jf8"
      },
      "source": [
        "[Yan Luo](https://www.linkedin.com/in/yan-luo-96288783/?utm_medium=Exinfluencer&utm_source=Exinfluencer&utm_content=000026UJ&utm_term=10006555&utm_id=NA-SkillsNetwork-Channel-SkillsNetworkCoursesIBMML321ENSkillsNetwork32585014-2022-01-01)\n"
      ]
    },
    {
      "cell_type": "markdown",
      "metadata": {
        "id": "LK760J632Jf9"
      },
      "source": [
        "### Other Contributors\n"
      ]
    },
    {
      "cell_type": "markdown",
      "metadata": {
        "id": "TDrYQnox2Jf9"
      },
      "source": [
        "## Change Log\n"
      ]
    },
    {
      "cell_type": "markdown",
      "metadata": {
        "id": "Jdp_Oimh2Jf9"
      },
      "source": [
        "| Date (YYYY-MM-DD) | Version | Changed By | Change Description          |\n",
        "| ----------------- | ------- | ---------- | --------------------------- |\n",
        "| 2021-10-25        | 1.0     | Yan        | Created the initial version |\n"
      ]
    },
    {
      "cell_type": "markdown",
      "metadata": {
        "id": "rzq8FYzH2Jf9"
      },
      "source": [
        "Copyright © 2021 IBM Corporation. All rights reserved.\n"
      ]
    }
  ],
  "metadata": {
    "kernelspec": {
      "display_name": "Python",
      "language": "python",
      "name": "conda-env-python-py"
    },
    "language_info": {
      "codemirror_mode": {
        "name": "ipython",
        "version": 3
      },
      "file_extension": ".py",
      "mimetype": "text/x-python",
      "name": "python",
      "nbconvert_exporter": "python",
      "pygments_lexer": "ipython3",
      "version": "3.7.12"
    },
    "colab": {
      "provenance": []
    }
  },
  "nbformat": 4,
  "nbformat_minor": 0
}